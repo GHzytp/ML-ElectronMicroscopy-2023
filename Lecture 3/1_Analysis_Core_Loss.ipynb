{
 "cells": [
  {
   "cell_type": "markdown",
   "metadata": {
    "hideCode": true,
    "hidePrompt": true
   },
   "source": [
    "<font size = \"5\"> **Lecture 3:  [Analysis of Spectroscopy Data in STEM](https://github.com/gduscher/ML-ElectronMicroscopy-2023/tree/main/Lecture%203)** </font>\n",
    "\n",
    "\n",
    "<hr style=\"height:1px;border-top:4px solid #FF8200\" />\n",
    "\n",
    "# Analysis of Core-Loss EELS Spectra\n",
    "\n",
    "\n",
    "[<img src=https://www.coeuscreativegroup.com/wp-content/uploads/2020/04/download-button.png, width=125>](https://github.com/SergeiVKalinin/ML-ElectronMicroscopy-2023/raw/main/Lecture%203/1_Analysis_Core_Loss.ipynb) \n",
    "\n",
    "[![OpenInColab](https://colab.research.google.com/assets/colab-badge.svg)](https://colab.research.google.com/github/SergeiVKalinin/ML-ElectronMicroscopy-2023/blob/main/Lecture%203/1_Analysis_Core_Loss.ipynb)\n",
    "\n",
    "part of Online Course\n",
    "\n",
    "<font size = \"5\"> **[Machine Learning in Scanning Electron Microscopy 2023](https://github.com/SergeiVKalinin/ML-ElectronMicroscopy-2023)**</font>\n",
    "\n",
    "<font size = \"3\"> **[Lecture 3](https://github.com/gduscher/ML-ElectronMicroscopy-2023/tree/main/Lecture%203)**</font>\n",
    "\n",
    "by Gerd Duscher, 2023\n",
    "\n",
    "Microscopy Facilities\n",
    "Materials Science & Engineering<br>\n",
    "Institute of Advanced Materials & Manufacturing<br>\n",
    "The University of Tennessee, Knoxville"
   ]
  },
  {
   "cell_type": "markdown",
   "metadata": {
    "hideCode": true,
    "hidePrompt": true
   },
   "source": [
    "## Content\n",
    "\n",
    "Quantitative determination of chemical composition from a core-loss EELS spectrum\n",
    "\n",
    "Relavant notebooks in course [MSE 672: Introduction to TEM]()  give an in depth explanation of the method.\n",
    "\n",
    "Please cite:\n",
    "\n",
    "[M. Tian et  al. *Measuring the areal density of nanomaterials by electron energy-loss spectroscopy*\n",
    "Ultramicroscopy Volume 196, 2019, pages 154-160](https://doi.org/10.1016/j.ultramic.2018.10.009)\n",
    "\n",
    "as a reference of this quantification method.\n",
    "\n",
    "## Prerequesites\n",
    "This notebook will only run with  ``pyTEMlib version 0.2023.5.0`` or higher.\n",
    "\n",
    "### Install missing packages\n",
    "This can take a while for the first time. This code will have to run at least once on your computer and for each colab session."
   ]
  },
  {
   "cell_type": "markdown",
   "metadata": {
    "hideCode": false,
    "hidePrompt": false
   },
   "source": [
    "### Load the relevant packages"
   ]
  },
  {
   "cell_type": "code",
   "execution_count": 1,
   "metadata": {},
   "outputs": [
    {
     "name": "stdout",
     "output_type": "stream",
     "text": [
      "done\n"
     ]
    }
   ],
   "source": [
    "import sys\n",
    "\n",
    "from pkg_resources import get_distribution, DistributionNotFound\n",
    "\n",
    "def test_package(package_name):\n",
    "    \"\"\"Test if package exists and returns version or -1\"\"\"\n",
    "    try:\n",
    "        version = (get_distribution(package_name).version)\n",
    "    except (DistributionNotFound, ImportError) as err:\n",
    "        version = '-1'\n",
    "    return version\n",
    "\n",
    "\n",
    "# pyTEMlib setup ------------------\n",
    "if test_package('pyTEMlib') < '0.2023.5.0':\n",
    "    print('installing pyTEMlib')\n",
    "    !{sys.executable} -m pip install git+https://github.com/pycroscopy/sidpy.git@main -q\n",
    "    !{sys.executable} -m pip install git+https://github.com/pycroscopy/SciFiReaders.git@main -q\n",
    "    !{sys.executable} -m pip install git+https://github.com/pycroscopy/pyTEMlib.git@main -q --upgrade\n",
    "    \n",
    "# ------------------------------\n",
    "print('done')"
   ]
  },
  {
   "cell_type": "markdown",
   "metadata": {},
   "source": [
    "Load Spectra"
   ]
  },
  {
   "cell_type": "code",
   "execution_count": 2,
   "metadata": {},
   "outputs": [],
   "source": [
    "!wget -P example_data/ https://github.com/SergeiVKalinin/ML-ElectronMicroscopy-2023/raw/main/example_data/EELS_STO.dm3\n",
    "!wget -P example_data/ https://github.com/SergeiVKalinin/ML-ElectronMicroscopy-2023/raw/main/example_data/AL-DFoffset0.00.dm3\n",
    "\n",
    "!wget -P example_data/ https://github.com/SergeiVKalinin/ML-ElectronMicroscopy-2023/raw/main/example_data/1EELS_Acquire_core-loss.dm3\n",
    "!wget -P example_data/ https://github.com/SergeiVKalinin/ML-ElectronMicroscopy-2023/raw/main/example_data/1EELS_Acquire_low-loss.dm3\n",
    "\n",
    "!wget -P example_data/ https://github.com/SergeiVKalinin/ML-ElectronMicroscopy-2023/raw/main/example_data/SrTiO3%20EELS%20low%20loss%20spectra.dm3\n",
    "!wget -P example_data/ https://github.com/SergeiVKalinin/ML-ElectronMicroscopy-2023/raw/main/example_data/SrTiO3collection-60muem.dm3\n",
    "!wget -P example_data/ https://github.com/SergeiVKalinin/ML-ElectronMicroscopy-2023/raw/main/example_data/SrTiO3%20EELS%20Ti%20and%20O%20edge%20spectra%2060mu%201s%200.2%20disp.dm3\n"
   ]
  },
  {
   "cell_type": "code",
   "execution_count": 2,
   "metadata": {},
   "outputs": [],
   "source": [
    "%load_ext autoreload\n",
    "%autoreload 2\n",
    "\n",
    "sys.path.insert(0, '../../pyTEMlib')"
   ]
  },
  {
   "cell_type": "code",
   "execution_count": 4,
   "metadata": {
    "hideCode": true,
    "hidePrompt": false
   },
   "outputs": [
    {
     "name": "stdout",
     "output_type": "stream",
     "text": [
      "pyTEMlib version:  0.2023.6.0\n"
     ]
    }
   ],
   "source": [
    "%matplotlib ipympl\n",
    "import numpy as np\n",
    "import matplotlib.pylab as plt \n",
    "import sys\n",
    "\n",
    "if 'google.colab' in sys.modules:\n",
    "    from google.colab import output\n",
    "    output.enable_custom_widget_manager()\n",
    "    from google.colab import drive\n",
    "\n",
    "import pyTEMlib\n",
    "import pyTEMlib.file_tools as ft     # File input/ output library\n",
    "import pyTEMlib.image_tools as it\n",
    "import pyTEMlib.eels_tools  as eels        # EELS methods \n",
    "\n",
    "import pyTEMlib.interactive_eels as ieels  # Dialogs for EELS input and quantification\n",
    "\n",
    "# For archiving reasons it is a good idea to print the version numbers out at this point\n",
    "print('pyTEMlib version: ', pyTEMlib.__version__)\n",
    "\n",
    "__notebook__ = 'analyze_core_loss'\n",
    "__notebook_version__ = '2023_05_21'\n",
    "\n",
    "if 'google.colab' in sys.modules:\n",
    "    drive.mount(\"/content/drive\")"
   ]
  },
  {
   "cell_type": "markdown",
   "metadata": {},
   "source": [
    "## Load and plot a spectrum\n",
    "\n",
    "As an example we load the spectrum **1EELS Acquire (high-loss).dm3** from the *example data* folder.\n",
    "\n",
    "Please see [Loading an EELS Spectrum](LoadEELS.ipynb) for details on storage and plotting.\n",
    "\n",
    "First a dialog to select a file will apear.\n",
    "\n",
    "Then the spectrum plot and ``Spectrum Info`` dialog will appear, in which we set the experimental parameters.\n",
    "\n",
    "Please use the ``Set Energy Scale`` button to change the energy scale. When pressed a new dialog and a cursor will appear in which one is able to set the energy scale based on known features in the spectrum.\n"
   ]
  },
  {
   "cell_type": "code",
   "execution_count": 5,
   "metadata": {},
   "outputs": [
    {
     "data": {
      "application/vnd.jupyter.widget-view+json": {
       "model_id": "4247ee0d43f84ee6be72e7885425513e",
       "version_major": 2,
       "version_minor": 0
      },
      "text/plain": [
       "VBox(children=(Dropdown(description='directory:', layout=Layout(width='90%'), options=('C:\\\\Users\\\\gduscher\\\\D…"
      ]
     },
     "metadata": {},
     "output_type": "display_data"
    }
   ],
   "source": [
    "# -----Input -------#\n",
    "load_example = False\n",
    "\n",
    "if load_example:\n",
    "    datasets = ft.open_file('../../example_data/EELS_STO3.hf5')\n",
    "else:  \n",
    "    fileWidget = ft.FileWidget()"
   ]
  },
  {
   "cell_type": "code",
   "execution_count": 17,
   "metadata": {
    "scrolled": true
   },
   "outputs": [
    {
     "data": {
      "application/vnd.jupyter.widget-view+json": {
       "model_id": "2c321ef87edf40eeaa0e96e896d79b17",
       "version_major": 2,
       "version_minor": 0
      },
      "text/plain": [
       "AppLayout(children=(GridspecLayout(children=(Dropdown(description='Main Dataset:', layout=Layout(grid_area='wi…"
      ]
     },
     "metadata": {},
     "output_type": "display_data"
    }
   ],
   "source": [
    "if not load_example:\n",
    "    datasets = fileWidget.datasets\n",
    "infoWidget= ieels.InfoWidget(datasets)\n",
    "\n"
   ]
  },
  {
   "cell_type": "code",
   "execution_count": 8,
   "metadata": {},
   "outputs": [
    {
     "data": {
      "text/plain": [
       "{'experiment': {'single_exposure_time': 0.01,\n",
       "  'exposure_time': 0.63,\n",
       "  'number_of_frames': 21,\n",
       "  'collection_angle': 33.0,\n",
       "  'convergence_angle': 30.0,\n",
       "  'acceleration_voltage': 200000.0,\n",
       "  'flux_ppm': 115.7001419067383,\n",
       "  'count_conversion': 1,\n",
       "  'beam_current': 0},\n",
       " 'filename': 'C:\\\\Users\\\\gduscher\\\\Documents\\\\Github\\\\MSE672-Introduction-to-TEM\\\\example_data\\\\1EELS Acquire (low-loss).dm3'}"
      ]
     },
     "execution_count": 8,
     "metadata": {},
     "output_type": "execute_result"
    }
   ],
   "source": [
    "fileWidget.selected_dataset.metadata"
   ]
  },
  {
   "cell_type": "markdown",
   "metadata": {},
   "source": [
    "## Chemical Composition \n",
    "The fit of the cross-section and background to the spectrum results in the chemical composition. If the calibration is correct this composition is given as areal density in atoms/nm$^2$\n",
    "\n",
    "\n"
   ]
  },
  {
   "cell_type": "code",
   "execution_count": 18,
   "metadata": {},
   "outputs": [
    {
     "name": "stdout",
     "output_type": "stream",
     "text": [
      "Auto Quantification\n",
      "Could not find no edge of 71 in spectrum\n",
      "\n",
      "Relative composition: \n",
      "\n"
     ]
    }
   ],
   "source": [
    "print('Auto Quantification')\n",
    "eels.auto_chemical_composition(infoWidget.dataset)"
   ]
  },
  {
   "cell_type": "markdown",
   "metadata": {},
   "source": [
    "###  Fit of Data\n",
    "A dialog window will open, enter the elements first (0 will open a periodic table) and press \n",
    "``Fit Composition`` button (bottom right). Adjust parameters as needed and check fit by pressing the ``Fit Composition`` button again.\n",
    "\n",
    "Select the ``Region`` checkbox to see which parts of the spectrum you choose to fit.\n",
    "\n",
    "Changing the multiplier value will make a simulation of your spectrum.\n",
    "\n",
    "The ``InfoDialog``, if open, still works to change experimental parameters and the energy scale."
   ]
  },
  {
   "cell_type": "code",
   "execution_count": 19,
   "metadata": {
    "tags": []
   },
   "outputs": [
    {
     "data": {
      "application/vnd.jupyter.widget-view+json": {
       "model_id": "3be27cf31b72476d9ad8efa91dbaea0f",
       "version_major": 2,
       "version_minor": 0
      },
      "text/plain": [
       "AppLayout(children=(GridspecLayout(children=(ToggleButton(value=False, button_style='info', description='Fit A…"
      ]
     },
     "metadata": {},
     "output_type": "display_data"
    }
   ],
   "source": [
    "compositionWidget = ieels.CompositionWidget(datasets)"
   ]
  },
  {
   "cell_type": "markdown",
   "metadata": {},
   "source": [
    "### Output of Results"
   ]
  },
  {
   "cell_type": "code",
   "execution_count": 20,
   "metadata": {},
   "outputs": [
    {
     "name": "stdout",
     "output_type": "stream",
     "text": [
      "Relative chemical composition of  2EELS Acquire (high-loss)\n",
      "B: 51.2 %\n",
      "N: 48.8 %\n"
     ]
    }
   ],
   "source": [
    "edges = compositionWidget.dataset.metadata['edges']\n",
    "element = []\n",
    "areal_density = []\n",
    "for key, edge in edges.items():\n",
    "    if key.isdigit():\n",
    "        element.append(edge['element'])\n",
    "        areal_density.append(edge['areal_density'])\n",
    "\n",
    "print('Relative chemical composition of ', compositionWidget.dataset.title)\n",
    "for i in range(len(element)):\n",
    "    print(f'{element[i]}: {areal_density[i]/np.sum(areal_density)*100:.1f} %')\n",
    "    \n",
    "saved_edges_metadata = edges"
   ]
  },
  {
   "cell_type": "code",
   "execution_count": 23,
   "metadata": {},
   "outputs": [
    {
     "data": {
      "text/plain": [
       "3.010752688172043"
      ]
     },
     "execution_count": 23,
     "metadata": {},
     "output_type": "execute_result"
    }
   ],
   "source": []
  },
  {
   "cell_type": "markdown",
   "metadata": {},
   "source": [
    "### Log Data\n",
    "All the data associated with quantification are stored in the ``metadata`` attribute. The relevant keys of that dictionary are:  ``experiment`` and  ``edges``."
   ]
  },
  {
   "cell_type": "code",
   "execution_count": 10,
   "metadata": {},
   "outputs": [
    {
     "data": {
      "text/plain": [
       "dict_keys(['Channel_000', 'Channel_001', 'Channel_002'])"
      ]
     },
     "execution_count": 10,
     "metadata": {},
     "output_type": "execute_result"
    }
   ],
   "source": [
    "compositionWidget.datasets.keys()"
   ]
  },
  {
   "cell_type": "code",
   "execution_count": 11,
   "metadata": {},
   "outputs": [
    {
     "data": {
      "text/plain": [
       "dict_keys(['experiment', 'filename', 'edges'])"
      ]
     },
     "execution_count": 11,
     "metadata": {},
     "output_type": "execute_result"
    }
   ],
   "source": [
    "compositionWidget.dataset.metadata.keys()"
   ]
  },
  {
   "cell_type": "code",
   "execution_count": 12,
   "metadata": {
    "scrolled": true
   },
   "outputs": [
    {
     "name": "stdout",
     "output_type": "stream",
     "text": [
      "experiment :\n",
      "\tsingle_exposure_time : 1.0\n",
      "\texposure_time : 10.0\n",
      "\tnumber_of_frames : 10\n",
      "\tcollection_angle : 100.0\n",
      "\tconvergence_angle : 0.0\n",
      "\tmicroscope : \n",
      "\tacceleration_voltage : 199990.28125\n",
      "\tflux_ppm : 0\n",
      "\tcount_conversion : 1\n",
      "\tbeam_current : 0\n",
      "filename : C:\\Users\\gduscher\\Documents\\Github\\ML-ElectronMicroscopy-2023\\example_data\\SrTiO3 EELS Ti and O edge spectra 60mu 1s 0.2 disp.dm3\n",
      "edges :\n",
      "\tmodel :\n",
      "\t\tbackground : energy_loss:  energy-loss (energy_loss) of size (2048,)\n",
      "\t\tbackground-poly_0 : 989543.3401917976\n",
      "\t\tbackground-poly_1 : -4354.271812070414\n",
      "\t\tbackground-poly_2 : 3.7311605671731263\n",
      "\t\tbackground-A : 55983934983.91169\n",
      "\t\tbackground-r : 1.8228302217049321\n",
      "\t\tspectrum : energy_loss:  energy-loss (energy_loss) of size (2048,)\n",
      "\t\tblurred : [1564512.9  1567874.5  1574252.1  ...  343700.06  343373.5   343206.78]\n",
      "\t\tmask : [0. 0. 0. ... 1. 0. 1.]\n",
      "\t\tfit_parameter : [ 7.79878050e+13  2.77933010e+14  2.98252875e+05  2.98252875e+05\n",
      "  2.98252875e+05  2.98252875e+05  9.89543340e+05 -4.35427181e+03\n",
      "  3.73116057e+00]\n",
      "\t\tfit_area_start : 321.52592057120637\n",
      "\t\tfit_area_end : 687.2695032967313\n",
      "\tuse_low_loss : False\n",
      "\t0 :\n",
      "\t\tz : 22\n",
      "\t\tsymmetry : L3\n",
      "\t\telement : Ti\n",
      "\t\tonset : 455.5\n",
      "\t\tend_exclude : 505.5\n",
      "\t\tstart_exclude : 450.5\n",
      "\t\tall_edges :\n",
      "\t\t\tL3 :\n",
      "\t\t\t\tonset : 455.5\n",
      "\t\t\tL2 :\n",
      "\t\t\t\tonset : 461.5\n",
      "\t\t\tL1 :\n",
      "\t\t\t\tonset : 563.6999999999999\n",
      "\t\tchemical_shift : 0.0\n",
      "\t\tareal_density : 77987804990948.11\n",
      "\t\toriginal_onset : 455.5\n",
      "\t\tdata : [3.83940068e-10 5.37047817e-10 6.39978163e-10 ... 1.37163725e-09\n",
      " 1.33182067e-09 1.25131802e-09]\n",
      "\t\tX_section_type : XRPA\n",
      "\t\tX_section_source : pyTEMlib\n",
      "\t1 :\n",
      "\t\tz : 8\n",
      "\t\tsymmetry : K1\n",
      "\t\telement : O\n",
      "\t\tonset : 532.0\n",
      "\t\tend_exclude : 582.0\n",
      "\t\tstart_exclude : 527.0\n",
      "\t\tall_edges :\n",
      "\t\t\tK1 :\n",
      "\t\t\t\tonset : 532.0\n",
      "\t\tchemical_shift : 0.0\n",
      "\t\tareal_density : 277933009767307.2\n",
      "\t\toriginal_onset : 532.0\n",
      "\t\tdata : [7.66867219e-11 1.09936007e-10 1.32262863e-10 ... 3.75118208e-10\n",
      " 3.64123623e-10 3.41849308e-10]\n",
      "\t\tX_section_type : XRPA\n",
      "\t\tX_section_source : pyTEMlib\n",
      "\tfit_area :\n",
      "\t\tfit_start : 321.52592057120637\n",
      "\t\tfit_end : 687.2695032967313\n"
     ]
    }
   ],
   "source": [
    "compositionWidget.dataset.view_metadata()"
   ]
  },
  {
   "cell_type": "markdown",
   "metadata": {},
   "source": [
    "## ELNES\n",
    "The electron energy-loss near edge structure is determined by fititng the spectrum after quantification model subtraction. \n",
    "\n",
    "First smooth the spectrum (only 0 iteration available at this time) and then \n",
    "find the number of peaks you want (Can be repeated as oftern as one wants).\n",
    "\n",
    "Please note that the peaks do not necessarily have a physcial meaning as there are peaks with \n",
    "positive and negative amplitudes. The goal is to get a smooth representation of the spectrum.\n",
    "A difference of a good fit and the data should result in a residual of noise only. To achieve such a good fit, the careful setting of the edge onset is important.\n"
   ]
  },
  {
   "cell_type": "code",
   "execution_count": 24,
   "metadata": {},
   "outputs": [
    {
     "data": {
      "application/vnd.jupyter.widget-view+json": {
       "model_id": "60b47b0a957c410d9a6fcbdc3a8a1523",
       "version_major": 2,
       "version_minor": 0
      },
      "text/plain": [
       "AppLayout(children=(GridspecLayout(children=(Button(description='Fit Area', layout=Layout(grid_area='widget001…"
      ]
     },
     "metadata": {},
     "output_type": "display_data"
    }
   ],
   "source": [
    "peakFitWidget = ieels.PeakFitWidget(datasets)"
   ]
  },
  {
   "cell_type": "code",
   "execution_count": null,
   "metadata": {},
   "outputs": [],
   "source": []
  },
  {
   "cell_type": "markdown",
   "metadata": {},
   "source": [
    "### Output"
   ]
  },
  {
   "cell_type": "code",
   "execution_count": 20,
   "metadata": {},
   "outputs": [
    {
     "name": "stdout",
     "output_type": "stream",
     "text": [
      "peak  0: position:   205.6, area: -8209407.204 associated edge: B-K1\n",
      "peak  1: position:   201.8, area:  3126761.093 associated edge: B-K1\n",
      "peak  2: position:   209.1, area:  4848365.844 associated edge: B-K1\n",
      "peak  3: position:   196.4, area:   462421.157 associated edge: B-K1\n",
      "peak  4: position:   393.6, area:   520220.765 associated edge: \n",
      "peak  5: position:   445.0, area:  -285507.928 associated edge: N-K1\n",
      "peak  6: position:   393.2, area:  -379724.943 associated edge: \n",
      "peak  7: position:   400.8, area:   124612.587 associated edge: \n"
     ]
    }
   ],
   "source": [
    "areas = []\n",
    "for p, peak in peakFitWidget.peaks['peaks'].items():\n",
    "    area = np.sqrt(2* np.pi)* peak['amplitude'] * np.abs(peak['width'] / np.sqrt(2 *np.log(2))) \n",
    "    areas.append(area)\n",
    "    if 'associated_edge' not in peak:\n",
    "        peak['associated_edge']= ''\n",
    "    print(f\"peak  {p}: position: {peak['position']:7.1f}, area: {area:12.3f} associated edge: {peak['associated_edge']}\")\n",
    "#print(f'\\n M4/M5 peak 2 to peak 1 ratio: {(areas[1])/areas[0]:.2f}')"
   ]
  },
  {
   "cell_type": "markdown",
   "metadata": {},
   "source": [
    "### Log Data\n",
    "All the data associated with quantification are stored in the ``metadata`` attribute. \n",
    "The new key in that dictionary is: ``peak_fit``."
   ]
  },
  {
   "cell_type": "code",
   "execution_count": 55,
   "metadata": {},
   "outputs": [
    {
     "data": {
      "text/plain": [
       "dict_keys(['filename', 'edges', 'experiment'])"
      ]
     },
     "execution_count": 55,
     "metadata": {},
     "output_type": "execute_result"
    }
   ],
   "source": [
    "infoWidget.dataset.metadata.keys()"
   ]
  },
  {
   "cell_type": "markdown",
   "metadata": {
    "hideCode": false,
    "hidePrompt": true
   },
   "source": [
    "## Save and Close File\n",
    "The dataset with the metadata should be saved for further quantification. \n",
    "The file needs to be closed to be used with other notebooks."
   ]
  },
  {
   "cell_type": "code",
   "execution_count": 105,
   "metadata": {
    "hideCode": false,
    "hidePrompt": true
   },
   "outputs": [
    {
     "name": "stderr",
     "output_type": "stream",
     "text": [
      "C:\\Users\\gduscher\\AppData\\Local\\anaconda3\\envs\\pyter\\lib\\site-packages\\pyNSID\\io\\hdf_utils.py:376: FutureWarning: validate_h5_dimension may be removed in a future version\n",
      "  warn('validate_h5_dimension may be removed in a future version',\n",
      "C:\\Users\\gduscher\\AppData\\Local\\anaconda3\\envs\\pyter\\lib\\site-packages\\pyNSID\\io\\hdf_utils.py:376: FutureWarning: validate_h5_dimension may be removed in a future version\n",
      "  warn('validate_h5_dimension may be removed in a future version',\n",
      "C:\\Users\\gduscher\\AppData\\Local\\anaconda3\\envs\\pyter\\lib\\site-packages\\pyNSID\\io\\hdf_io.py:111: UserWarning: main_data_name should not contain the \"-\" character. Reformatted name from:collection-60muem to collection_60muem\n",
      "  warn('main_data_name should not contain the \"-\" character. Reformatted'\n",
      "C:\\Users\\gduscher\\AppData\\Local\\anaconda3\\envs\\pyter\\lib\\site-packages\\pyNSID\\io\\hdf_utils.py:376: FutureWarning: validate_h5_dimension may be removed in a future version\n",
      "  warn('validate_h5_dimension may be removed in a future version',\n"
     ]
    }
   ],
   "source": [
    "h5_group = ft.save_dataset(infoWidget.datasets, '../../example_data/EELS_STO3.hf5')\n",
    "h5_group.file.close()"
   ]
  },
  {
   "cell_type": "code",
   "execution_count": null,
   "metadata": {},
   "outputs": [],
   "source": []
  }
 ],
 "metadata": {
  "hide_code_all_hidden": true,
  "kernelspec": {
   "display_name": "pyTEMlib",
   "language": "python",
   "name": "pytemlib"
  },
  "language_info": {
   "codemirror_mode": {
    "name": "ipython",
    "version": 3
   },
   "file_extension": ".py",
   "mimetype": "text/x-python",
   "name": "python",
   "nbconvert_exporter": "python",
   "pygments_lexer": "ipython3",
   "version": "3.11.3"
  },
  "toc": {
   "base_numbering": 1,
   "nav_menu": {},
   "number_sections": true,
   "sideBar": true,
   "skip_h1_title": false,
   "title_cell": "Table of Contents",
   "title_sidebar": "Contents",
   "toc_cell": false,
   "toc_position": {
    "height": "calc(100% - 180px)",
    "left": "10px",
    "top": "150px",
    "width": "270px"
   },
   "toc_section_display": true,
   "toc_window_display": false
  },
  "varInspector": {
   "cols": {
    "lenName": 16,
    "lenType": 16,
    "lenVar": 40
   },
   "kernels_config": {
    "python": {
     "delete_cmd_postfix": "",
     "delete_cmd_prefix": "del ",
     "library": "var_list.py",
     "varRefreshCmd": "print(var_dic_list())"
    },
    "r": {
     "delete_cmd_postfix": ") ",
     "delete_cmd_prefix": "rm(",
     "library": "var_list.r",
     "varRefreshCmd": "cat(var_dic_list()) "
    }
   },
   "types_to_exclude": [
    "module",
    "function",
    "builtin_function_or_method",
    "instance",
    "_Feature"
   ],
   "window_display": false
  }
 },
 "nbformat": 4,
 "nbformat_minor": 4
}
