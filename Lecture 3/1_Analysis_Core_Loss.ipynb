{
 "cells": [
  {
   "cell_type": "markdown",
   "metadata": {
    "hideCode": true,
    "hidePrompt": true
   },
   "source": [
    "<font size = \"5\"> **EELS_Tools:  [Spectroscopy](../4_EELS_Tools.ipynb)** </font>\n",
    "\n",
    "<hr style=\"height:1px;border-top:4px solid #FF8200\" />\n",
    "\n",
    "# Analysis of Core-Loss EELS Spectra\n",
    "<br>\n",
    "\n",
    "[<img src=https://www.coeuscreativegroup.com/wp-content/uploads/2020/04/download-button.png, width=125>](https://raw.githubusercontent.com/pycroscopy/pyTEMlib/main/notebooks/EELS/Analysis_Core_Loss.ipynb) \n",
    "\n",
    "[![OpenInColab](https://colab.research.google.com/assets/colab-badge.svg)](\n",
    "    https://colab.research.google.com/github/pycroscopy/pyTEMlib/blob/main/notebooks/EELS/Analysis_Core_Loss.ipynb)\n",
    "    \n",
    "part of \n",
    "\n",
    "<font size = \"5\"> **[pyTEMlib](https://pycroscopy.github.io/pyTEMlib/about.html)**</font>\n",
    "\n",
    "a [pycroscopy](https://pycroscopy.github.io/pycroscopy/about.html) ecosystem package\n",
    "\n",
    "\n",
    "Notebook by Gerd Duscher, 2023\n",
    "\n",
    "Microscopy Facilities<br>\n",
    "Institute of Advanced Materials & Manufacturing<br>\n",
    "The University of Tennessee, Knoxville\n",
    "\n",
    "Model based analysis and quantification of data acquired with transmission electron microscopes\n",
    "\n",
    "\n"
   ]
  },
  {
   "cell_type": "markdown",
   "metadata": {
    "hideCode": true,
    "hidePrompt": true
   },
   "source": [
    "## Content\n",
    "\n",
    "Quantitative determination of chemical composition from a core-loss EELS spectrum\n",
    "\n",
    "Relavant notebooks in course [MSE 672: Introduction to TEM]()  give an in depth explanation of the method.\n",
    "\n",
    "Please cite:\n",
    "\n",
    "[M. Tian et  al. *Measuring the areal density of nanomaterials by electron energy-loss spectroscopy*\n",
    "Ultramicroscopy Volume 196, 2019, pages 154-160](https://doi.org/10.1016/j.ultramic.2018.10.009)\n",
    "\n",
    "as a reference of this quantification method.\n",
    "\n",
    "## Prerequesites\n",
    "This notebook will only run with  ``pyTEMlib version 0.2023.5.0`` or higher.\n",
    "\n",
    "### Install missing packages\n",
    "This can take a while for the first time. This code will have to run at least once on your computer and for each colab session."
   ]
  },
  {
   "cell_type": "code",
   "execution_count": 1,
   "metadata": {},
   "outputs": [
    {
     "name": "stdout",
     "output_type": "stream",
     "text": [
      "done\n"
     ]
    }
   ],
   "source": [
    "import sys\n",
    "\n",
    "from pkg_resources import get_distribution, DistributionNotFound\n",
    "\n",
    "def test_package(package_name):\n",
    "    \"\"\"Test if package exists and returns version or -1\"\"\"\n",
    "    try:\n",
    "        version = (get_distribution(package_name).version)\n",
    "    except (DistributionNotFound, ImportError) as err:\n",
    "        version = '-1'\n",
    "    return version\n",
    "\n",
    "\n",
    "# pyTEMlib setup ------------------\n",
    "if test_package('pyTEMlib') < '0.2023.5.0':\n",
    "    print('installing pyTEMlib')\n",
    "    !{sys.executable} -m pip install git+https://github.com/pycroscopy/sidpy.git@rama_dev\n",
    "    !{sys.executable} -m pip install git+https://github.com/pycroscopy/SciFiReaders.git@main -q\n",
    "    !{sys.executable} -m pip install git+https://github.com/pycroscopy/pyTEMlib.git@main -q --upgrade\n",
    "    \n",
    "# ------------------------------\n",
    "print('done')"
   ]
  },
  {
   "cell_type": "markdown",
   "metadata": {
    "hideCode": false,
    "hidePrompt": false
   },
   "source": [
    "### Load the relevant packages"
   ]
  },
  {
   "cell_type": "code",
   "execution_count": 1,
   "metadata": {
    "hideCode": true,
    "hidePrompt": false
   },
   "outputs": [
    {
     "name": "stdout",
     "output_type": "stream",
     "text": [
      "You don't have igor2 installed.     If you wish to open igor files, you will need to install it     (pip install igor2) before attempting.\n",
      "You don't have gwyfile installed.     If you wish to open .gwy files, you will need to      install it (pip install gwyfile) before attempting.\n",
      "Symmetry functions of spglib enabled\n",
      "Qt dialogs are not available\n",
      "SimpleITK not installed; Registration Functions for Image Stacks not available\n",
      "install with: conda install -c simpleitk simpleitk \n",
      "Qt dialogs are not available\n",
      "Qt dialogs are not available\n",
      "Qt dialogs are not available\n",
      "pyTEMlib version:  0.2023.5.1\n"
     ]
    }
   ],
   "source": [
    "%matplotlib ipympl\n",
    "import numpy as np\n",
    "import matplotlib.pylab as plt \n",
    "import sys\n",
    "\n",
    "if 'google.colab' in sys.modules:\n",
    "    from google.colab import output\n",
    "    output.enable_custom_widget_manager()\n",
    "    from google.colab import drive\n",
    "\n",
    "import pyTEMlib\n",
    "import pyTEMlib.file_tools as ft     # File input/ output library\n",
    "import pyTEMlib.image_tools as it\n",
    "import pyTEMlib.eels_tools  as eels        # EELS methods \n",
    "\n",
    "import pyTEMlib.interactive_eels as ieels  # Dialogs for EELS input and quantification\n",
    "\n",
    "# For archiving reasons it is a good idea to print the version numbers out at this point\n",
    "print('pyTEMlib version: ', pyTEMlib.__version__)\n",
    "\n",
    "__notebook__ = 'analyze_core_loss'\n",
    "__notebook_version__ = '2023_05_21'\n",
    "\n",
    "if 'google.colab' in sys.modules:\n",
    "    drive.mount(\"/content/drive\")"
   ]
  },
  {
   "cell_type": "markdown",
   "metadata": {},
   "source": [
    "## Load and plot a spectrum\n",
    "\n",
    "As an example we load the spectrum **1EELS Acquire (high-loss).dm3** from the *example data* folder.\n",
    "\n",
    "Please see [Loading an EELS Spectrum](LoadEELS.ipynb) for details on storage and plotting.\n",
    "\n",
    "First a dialog to select a file will apear.\n",
    "\n",
    "Then the spectrum plot and ``Spectrum Info`` dialog will appear, in which we set the experimental parameters.\n",
    "\n",
    "Please use the ``Set Energy Scale`` button to change the energy scale. When pressed a new dialog and a cursor will appear in which one is able to set the energy scale based on known features in the spectrum.\n"
   ]
  },
  {
   "cell_type": "code",
   "execution_count": 2,
   "metadata": {},
   "outputs": [
    {
     "data": {
      "application/vnd.jupyter.widget-view+json": {
       "model_id": "271a969fcf8243c084eff8a862b5ac74",
       "version_major": 2,
       "version_minor": 0
      },
      "text/plain": [
       "VBox(children=(Dropdown(description='directory:', layout=Layout(width='90%'), options=('C:\\\\Users\\\\gduscher\\\\D…"
      ]
     },
     "metadata": {},
     "output_type": "display_data"
    }
   ],
   "source": [
    "# -----Input -------#\n",
    "load_example = False\n",
    "\n",
    "if load_example:\n",
    "    datasets = ft.open_file('../../example_data/EELS_STO3.hf5')\n",
    "else:  \n",
    "    fileWidget = ft.FileWidget()"
   ]
  },
  {
   "cell_type": "code",
   "execution_count": 143,
   "metadata": {},
   "outputs": [
    {
     "data": {
      "application/vnd.jupyter.widget-view+json": {
       "model_id": "2c5392431c15444ea5af084405db8855",
       "version_major": 2,
       "version_minor": 0
      },
      "text/plain": [
       "AppLayout(children=(GridspecLayout(children=(Dropdown(description='Main Dataset:', layout=Layout(grid_area='wi…"
      ]
     },
     "metadata": {},
     "output_type": "display_data"
    }
   ],
   "source": [
    "if not load_example:\n",
    "    datasets = fileWidget.datasets\n",
    "infoWidget= ieels.InfoWidget(datasets)\n"
   ]
  },
  {
   "cell_type": "markdown",
   "metadata": {},
   "source": [
    "## Chemical Composition \n",
    "The fit of the cross-section and background to the spectrum results in the chemical composition. If the calibration is correct this composition is given as areal density in atoms/nm$^2$\n",
    "\n",
    "\n"
   ]
  },
  {
   "cell_type": "code",
   "execution_count": null,
   "metadata": {},
   "outputs": [],
   "source": [
    "print('Auto Quantification')\n",
    "eels.auto_chemical_composition(infoWidget.dataset)"
   ]
  },
  {
   "cell_type": "markdown",
   "metadata": {},
   "source": [
    "###  Fit of Data\n",
    "A dialog window will open, enter the elements first (0 will open a periodic table) and press \n",
    "``Fit Composition`` button (bottom right). Adjust parameters as needed and check fit by pressing the ``Fit Composition`` button again.\n",
    "\n",
    "Select the ``Region`` checkbox to see which parts of the spectrum you choose to fit.\n",
    "\n",
    "Changing the multiplier value will make a simulation of your spectrum.\n",
    "\n",
    "The ``InfoDialog``, if open, still works to change experimental parameters and the energy scale."
   ]
  },
  {
   "cell_type": "code",
   "execution_count": 124,
   "metadata": {
    "tags": []
   },
   "outputs": [
    {
     "data": {
      "application/vnd.jupyter.widget-view+json": {
       "model_id": "f6c23a1baa7a4ae0b4800afe46502748",
       "version_major": 2,
       "version_minor": 0
      },
      "text/plain": [
       "AppLayout(children=(GridspecLayout(children=(ToggleButton(value=False, button_style='info', description='Fit A…"
      ]
     },
     "metadata": {},
     "output_type": "display_data"
    }
   ],
   "source": [
    "compositionWidget = ieels.CompositionWidget(datasets)"
   ]
  },
  {
   "cell_type": "markdown",
   "metadata": {},
   "source": [
    "### Output of Results"
   ]
  },
  {
   "cell_type": "code",
   "execution_count": 97,
   "metadata": {},
   "outputs": [
    {
     "name": "stdout",
     "output_type": "stream",
     "text": [
      "Relative chemical composition of  Merve SrTiO4 EELS low loss spectra 0.1 disp 500 ev\n",
      "Ti: 17.9 %\n",
      "O: 82.1 %\n"
     ]
    }
   ],
   "source": [
    "edges = compositionWidget.dataset.metadata['edges']\n",
    "element = []\n",
    "areal_density = []\n",
    "for key, edge in edges.items():\n",
    "    if key.isdigit():\n",
    "        element.append(edge['element'])\n",
    "        areal_density.append(edge['areal_density'])\n",
    "\n",
    "print('Relative chemical composition of ', compositionWidget.dataset.title)\n",
    "for i in range(len(element)):\n",
    "    print(f'{element[i]}: {areal_density[i]/np.sum(areal_density)*100:.1f} %')\n",
    "    \n",
    "saved_edges_metadata = edges"
   ]
  },
  {
   "cell_type": "markdown",
   "metadata": {},
   "source": [
    "### Log Data\n",
    "All the data associated with quantification are stored in the ``metadata`` attribute. The relevant keys of that dictionary are:  ``experiment`` and  ``edges``."
   ]
  },
  {
   "cell_type": "code",
   "execution_count": 7,
   "metadata": {},
   "outputs": [
    {
     "data": {
      "text/plain": [
       "dict_keys(['experiment', 'filename', 'edges'])"
      ]
     },
     "execution_count": 7,
     "metadata": {},
     "output_type": "execute_result"
    }
   ],
   "source": [
    "compositionWidget.dataset.metadata.keys()"
   ]
  },
  {
   "cell_type": "code",
   "execution_count": 8,
   "metadata": {
    "scrolled": true
   },
   "outputs": [
    {
     "name": "stdout",
     "output_type": "stream",
     "text": [
      "experiment :\n",
      "\tsingle_exposure_time : 1.0\n",
      "\texposure_time : 10.0\n",
      "\tnumber_of_frames : 10\n",
      "\tcollection_angle : 40.0\n",
      "\tconvergence_angle : 10.0\n",
      "\tmicroscope : \n",
      "\tacceleration_voltage : 200000.0\n",
      "\tflux_ppm : 122228.49553999992\n",
      "\tcount_conversion : 1\n",
      "\tbeam_current : 0\n",
      "filename : C:\\Users\\gduscher\\Documents\\Github\\2023-04018-T1-3\\Gellerup SrTiO4 EELS Ti and O edge spectra 60mu 1s 0.2 disp.dm3\n",
      "edges :\n",
      "\tmodel :\n",
      "\t\tbackground : energy_loss:  energy-loss (energy_loss) of size (2048,)\n",
      "\t\tbackground-poly_0 : 630802.0962696614\n",
      "\t\tbackground-poly_1 : -2915.5152880410187\n",
      "\t\tbackground-poly_2 : 2.554959550281556\n",
      "\t\tbackground-A : 55811144277.94749\n",
      "\t\tbackground-r : 1.8223351721836667\n",
      "\t\tspectrum : energy_loss:  energy-loss (energy_loss) of size (2048,)\n",
      "\t\tblurred : [1564512.9  1567874.5  1574252.1  ...  343700.06  343373.5   343206.78]\n",
      "\t\tmask : [0. 0. 0. ... 1. 1. 1.]\n",
      "\t\tfit_parameter : [ 6.84535626e+13  3.04470742e+14  2.98252875e+05  2.98252875e+05\n",
      "  2.98252875e+05  2.98252875e+05  6.30802096e+05 -2.91551529e+03\n",
      "  2.55495955e+00]\n",
      "\t\tfit_area_start : 321.526\n",
      "\t\tfit_area_end : 687.27\n",
      "\tuse_low_loss : False\n",
      "\tfit_area :\n",
      "\t\tfit_start : 321.526\n",
      "\t\tfit_end : 687.27\n",
      "\t0 :\n",
      "\t\tz : 22\n",
      "\t\tsymmetry : L3\n",
      "\t\telement : Ti\n",
      "\t\tonset : 455.5\n",
      "\t\tend_exclude : 505.5\n",
      "\t\tstart_exclude : 450.5\n",
      "\t\tall_edges :\n",
      "\t\t\tL3 :\n",
      "\t\t\t\tonset : 455.5\n",
      "\t\t\tL2 :\n",
      "\t\t\t\tonset : 461.5\n",
      "\t\t\tL1 :\n",
      "\t\t\t\tonset : 563.6999999999999\n",
      "\t\tchemical_shift : 0.0\n",
      "\t\tareal_density : 68453562625855.14\n",
      "\t\toriginal_onset : 455.5\n",
      "\t\tdata : [1.16948709e-09 1.16733876e-09 1.16519044e-09 ... 9.66343924e-10\n",
      " 9.65444081e-10 9.64544238e-10]\n",
      "\t\tX_section_type : XRPA\n",
      "\t\tX_section_source : pyTEMlib\n",
      "\t1 :\n",
      "\t\tz : 8\n",
      "\t\tsymmetry : K1\n",
      "\t\telement : O\n",
      "\t\tonset : 532.0\n",
      "\t\tend_exclude : 582.0\n",
      "\t\tstart_exclude : 527.0\n",
      "\t\tall_edges :\n",
      "\t\t\tK1 :\n",
      "\t\t\t\tonset : 532.0\n",
      "\t\tchemical_shift : 0.0\n",
      "\t\tareal_density : 304470742159449.5\n",
      "\t\toriginal_onset : 532.0\n",
      "\t\tdata : [2.54317174e-10 2.53763900e-10 2.53210627e-10 ... 2.67943271e-10\n",
      " 2.67685348e-10 2.67427425e-10]\n",
      "\t\tX_section_type : XRPA\n",
      "\t\tX_section_source : pyTEMlib\n"
     ]
    }
   ],
   "source": [
    "compositionWidget.dataset.view_metadata()"
   ]
  },
  {
   "cell_type": "markdown",
   "metadata": {},
   "source": [
    "## ELNES\n",
    "The electron energy-loss near edge structure is determined by fititng the spectrum after quantification model subtraction. \n",
    "\n",
    "First smooth the spectrum (only 0 iteration available at this time) and then \n",
    "find the number of peaks you want (Can be repeated as oftern as one wants).\n",
    "\n",
    "Please note that the peaks do not necessarily have a physcial meaning as there are peaks with \n",
    "positive and negative amplitudes. The goal is to get a smooth representation of the spectrum.\n",
    "A difference of a good fit and the data should result in a residual of noise only. To achieve such a good fit, the careful setting of the edge onset is important.\n"
   ]
  },
  {
   "cell_type": "code",
   "execution_count": 139,
   "metadata": {},
   "outputs": [
    {
     "data": {
      "application/vnd.jupyter.widget-view+json": {
       "model_id": "218d40176938455ea22ea5e18f9fc5cb",
       "version_major": 2,
       "version_minor": 0
      },
      "text/plain": [
       "AppLayout(children=(GridspecLayout(children=(Button(description='Fit Area', layout=Layout(grid_area='widget001…"
      ]
     },
     "metadata": {},
     "output_type": "display_data"
    }
   ],
   "source": [
    "peakFitWidget = ieels.PeakFitWidget(datasets)"
   ]
  },
  {
   "cell_type": "markdown",
   "metadata": {},
   "source": [
    "### Output"
   ]
  },
  {
   "cell_type": "code",
   "execution_count": 133,
   "metadata": {},
   "outputs": [
    {
     "name": "stdout",
     "output_type": "stream",
     "text": [
      "peak  0: position:  1137.3, area:  -902696.326 associated edge: \n",
      "peak  1: position:   397.7, area:   248345.905 associated edge: \n",
      "peak  2: position:   471.7, area:   358866.925 associated edge: Ti-L2\n",
      "peak  3: position:   474.5, area:  -214907.993 associated edge: Ti-L2\n",
      "peak  4: position:   467.9, area:   127961.868 associated edge: Ti-L2\n",
      "peak  5: position:   462.5, area:    87493.436 associated edge: Ti-L3\n",
      "peak  6: position:   483.9, area:  -125417.193 associated edge: Ti-L2\n",
      "peak  7: position:   470.7, area:   -88361.367 associated edge: Ti-L2\n",
      "peak  8: position:   457.8, area:   -48395.811 associated edge: \n",
      "peak  9: position:   465.5, area:    46623.179 associated edge: Ti-L2\n",
      "peak  10: position:   460.2, area:    38463.028 associated edge: Ti-L3\n"
     ]
    }
   ],
   "source": [
    "areas = []\n",
    "for p, peak in peakFitWidget.peaks['peaks'].items():\n",
    "    area = np.sqrt(2* np.pi)* peak['amplitude'] * np.abs(peak['width'] / np.sqrt(2 *np.log(2))) \n",
    "    areas.append(area)\n",
    "    if 'associated_edge' not in peak:\n",
    "        peak['associated_edge']= ''\n",
    "    print(f\"peak  {p}: position: {peak['position']:7.1f}, area: {area:12.3f} associated edge: {peak['associated_edge']}\")\n",
    "#print(f'\\n M4/M5 peak 2 to peak 1 ratio: {(areas[1])/areas[0]:.2f}')"
   ]
  },
  {
   "cell_type": "markdown",
   "metadata": {},
   "source": [
    "### Log Data\n",
    "All the data associated with quantification are stored in the ``metadata`` attribute. \n",
    "The new key in that dictionary is: ``peak_fit``."
   ]
  },
  {
   "cell_type": "code",
   "execution_count": 55,
   "metadata": {},
   "outputs": [
    {
     "data": {
      "text/plain": [
       "dict_keys(['filename', 'edges', 'experiment'])"
      ]
     },
     "execution_count": 55,
     "metadata": {},
     "output_type": "execute_result"
    }
   ],
   "source": [
    "infoWidget.dataset.metadata.keys()"
   ]
  },
  {
   "cell_type": "markdown",
   "metadata": {
    "hideCode": false,
    "hidePrompt": true
   },
   "source": [
    "## Save and Close File\n",
    "The dataset with the metadata should be saved for further quantification. \n",
    "The file needs to be closed to be used with other notebooks."
   ]
  },
  {
   "cell_type": "code",
   "execution_count": 105,
   "metadata": {
    "hideCode": false,
    "hidePrompt": true
   },
   "outputs": [
    {
     "name": "stderr",
     "output_type": "stream",
     "text": [
      "C:\\Users\\gduscher\\AppData\\Local\\anaconda3\\envs\\pyter\\lib\\site-packages\\pyNSID\\io\\hdf_utils.py:376: FutureWarning: validate_h5_dimension may be removed in a future version\n",
      "  warn('validate_h5_dimension may be removed in a future version',\n",
      "C:\\Users\\gduscher\\AppData\\Local\\anaconda3\\envs\\pyter\\lib\\site-packages\\pyNSID\\io\\hdf_utils.py:376: FutureWarning: validate_h5_dimension may be removed in a future version\n",
      "  warn('validate_h5_dimension may be removed in a future version',\n",
      "C:\\Users\\gduscher\\AppData\\Local\\anaconda3\\envs\\pyter\\lib\\site-packages\\pyNSID\\io\\hdf_io.py:111: UserWarning: main_data_name should not contain the \"-\" character. Reformatted name from:collection-60muem to collection_60muem\n",
      "  warn('main_data_name should not contain the \"-\" character. Reformatted'\n",
      "C:\\Users\\gduscher\\AppData\\Local\\anaconda3\\envs\\pyter\\lib\\site-packages\\pyNSID\\io\\hdf_utils.py:376: FutureWarning: validate_h5_dimension may be removed in a future version\n",
      "  warn('validate_h5_dimension may be removed in a future version',\n"
     ]
    }
   ],
   "source": [
    "h5_group = ft.save_dataset(infoWidget.datasets, '../../example_data/EELS_STO3.hf5')\n",
    "h5_group.file.close()"
   ]
  },
  {
   "cell_type": "code",
   "execution_count": null,
   "metadata": {},
   "outputs": [],
   "source": []
  }
 ],
 "metadata": {
  "hide_code_all_hidden": true,
  "kernelspec": {
   "display_name": "pyTEMlib",
   "language": "python",
   "name": "pytemlib"
  },
  "language_info": {
   "codemirror_mode": {
    "name": "ipython",
    "version": 3
   },
   "file_extension": ".py",
   "mimetype": "text/x-python",
   "name": "python",
   "nbconvert_exporter": "python",
   "pygments_lexer": "ipython3",
   "version": "3.11.3"
  },
  "toc": {
   "base_numbering": 1,
   "nav_menu": {},
   "number_sections": true,
   "sideBar": true,
   "skip_h1_title": false,
   "title_cell": "Table of Contents",
   "title_sidebar": "Contents",
   "toc_cell": false,
   "toc_position": {
    "height": "calc(100% - 180px)",
    "left": "10px",
    "top": "150px",
    "width": "270px"
   },
   "toc_section_display": true,
   "toc_window_display": false
  },
  "varInspector": {
   "cols": {
    "lenName": 16,
    "lenType": 16,
    "lenVar": 40
   },
   "kernels_config": {
    "python": {
     "delete_cmd_postfix": "",
     "delete_cmd_prefix": "del ",
     "library": "var_list.py",
     "varRefreshCmd": "print(var_dic_list())"
    },
    "r": {
     "delete_cmd_postfix": ") ",
     "delete_cmd_prefix": "rm(",
     "library": "var_list.r",
     "varRefreshCmd": "cat(var_dic_list()) "
    }
   },
   "types_to_exclude": [
    "module",
    "function",
    "builtin_function_or_method",
    "instance",
    "_Feature"
   ],
   "window_display": false
  }
 },
 "nbformat": 4,
 "nbformat_minor": 4
}
