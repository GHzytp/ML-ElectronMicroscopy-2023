{
  "nbformat": 4,
  "nbformat_minor": 0,
  "metadata": {
    "colab": {
      "provenance": [],
      "include_colab_link": true
    },
    "kernelspec": {
      "name": "python3",
      "display_name": "Python 3"
    },
    "language_info": {
      "name": "python"
    },
    "accelerator": "GPU",
    "gpuClass": "standard"
  },
  "cells": [
    {
      "cell_type": "markdown",
      "metadata": {
        "id": "view-in-github",
        "colab_type": "text"
      },
      "source": [
        "<a href=\"https://colab.research.google.com/github/SergeiVKalinin/ML-ElectronMicroscopy-2023/blob/main/Lecture%2017/3_0_crVAE_cards.ipynb\" target=\"_parent\"><img src=\"https://colab.research.google.com/assets/colab-badge.svg\" alt=\"Open In Colab\"/></a>"
      ]
    },
    {
      "cell_type": "markdown",
      "source": [
        "*   This notebook takes you through the application of rotationally invariant conditional variational autoencoder (crVAE) on four different cards datasets and the results analysis.  \n",
        "*   Each cards dataset if formed by applying a random rotation and shear to the images of the cards. The datasets differ in the limits used for picking the rotations and shear.\n",
        "\n",
        "*   conditional autoencoder conditions the encoding-decoding of each image on its ground truth class.\n",
        "*   So, we form m independent latent spaces for a given dataset, where m is the number of classes present in the dataset\n",
        "*   On top of this cVAE (from pyroved) can also be used to condition the encodings on a continuous ground truth property associated with each data point. This is not discussed in this notebook.\n",
        "*   rVAE comprises of an additional latent dimension to the regular VAE, which explicitly captures the rotations involved in the image.\n",
        "*   This angular latent dimension is unsupervisedly learned while trying to reconstuct the original image.\n",
        "*   Like in VAE, this latent dimension is also regularized using a prior.  \n",
        "\n",
        "The crVAEs are defined and trained using a package called Pyroved (https://github.com/ziatdinovmax/pyroVED) which is built on top of Pyro probabilistic programming framework. Please feel free to write to valletisai.mani@gmail.com for further enquiries."
      ],
      "metadata": {
        "id": "Dxjfrq5Rrz3l"
      }
    },
    {
      "cell_type": "code",
      "execution_count": null,
      "metadata": {
        "colab": {
          "base_uri": "https://localhost:8080/"
        },
        "id": "Mnt4HkaDuYq_",
        "outputId": "2d078046-4068-485f-b3a7-60bd0d9f598e"
      },
      "outputs": [
        {
          "output_type": "stream",
          "name": "stdout",
          "text": [
            "  Preparing metadata (setup.py) ... \u001b[?25l\u001b[?25hdone\n",
            "\u001b[2K     \u001b[90m━━━━━━━━━━━━━━━━━━━━━━━━━━━━━━━━━━━━━━\u001b[0m \u001b[32m628.1/628.1 kB\u001b[0m \u001b[31m10.6 MB/s\u001b[0m eta \u001b[36m0:00:00\u001b[0m\n",
            "\u001b[2K     \u001b[90m━━━━━━━━━━━━━━━━━━━━━━━━━━━━━━━━━━━━━━━\u001b[0m \u001b[32m730.7/730.7 kB\u001b[0m \u001b[31m9.4 MB/s\u001b[0m eta \u001b[36m0:00:00\u001b[0m\n",
            "\u001b[2K     \u001b[90m━━━━━━━━━━━━━━━━━━━━━━━━━━━━━━━━━━━━━━━━\u001b[0m \u001b[32m11.5/11.5 MB\u001b[0m \u001b[31m22.2 MB/s\u001b[0m eta \u001b[36m0:00:00\u001b[0m\n",
            "\u001b[?25h  Building wheel for pyroved (setup.py) ... \u001b[?25l\u001b[?25hdone\n",
            "\u001b[31mERROR: pip's dependency resolver does not currently take into account all the packages that are installed. This behaviour is the source of the following dependency conflicts.\n",
            "plotnine 0.10.1 requires matplotlib>=3.5.0, but you have matplotlib 3.3.4 which is incompatible.\n",
            "mizani 0.8.1 requires matplotlib>=3.5.0, but you have matplotlib 3.3.4 which is incompatible.\u001b[0m\u001b[31m\n",
            "\u001b[0m"
          ]
        }
      ],
      "source": [
        "# Installing Kornia and pyroved\n",
        "!pip install -q kornia git+https://github.com/ziatdinovmax/pyroVED@main"
      ]
    },
    {
      "cell_type": "code",
      "source": [
        "# Importing necessary packages\n",
        "\n",
        "import pyroved as pv\n",
        "import kornia as K\n",
        "\n",
        "\n",
        "import cv2\n",
        "from torchvision.utils import make_grid\n",
        "import torch\n",
        "import torch.nn as nn\n",
        "import numpy as np\n",
        "import matplotlib.pyplot as plt\n",
        "import matplotlib as mpl\n",
        "mpl.rcParams['axes.linewidth'] = 3\n",
        "\n",
        "tt = torch.tensor"
      ],
      "metadata": {
        "id": "S5wdpZQqufEq"
      },
      "execution_count": null,
      "outputs": []
    },
    {
      "cell_type": "code",
      "source": [
        "#@title Helper functions that apply afffine transformations to the dataset\n",
        "rs = lambda x: cv2.resize(x, (64, 64), cv2.INTER_CUBIC)\n",
        "\n",
        "def get_data():\n",
        "    !gdown -q https://drive.google.com/uc?id=1AyGHVflbIjzinkKBURHNVDx1wWg9JixB\n",
        "    !unzip -o -qq cards.zip\n",
        "    card1 = rs(cv2.imread(\"cards/card1.JPG\", cv2.IMREAD_GRAYSCALE))\n",
        "    card2 = rs(cv2.imread(\"cards/card2.JPG\", cv2.IMREAD_GRAYSCALE))\n",
        "    card3 = rs(cv2.imread(\"cards/card3.JPG\", cv2.IMREAD_GRAYSCALE))\n",
        "    card4 = rs(cv2.imread(\"cards/card4.JPG\", cv2.IMREAD_GRAYSCALE))\n",
        "    card1 = tt(1 - card1 / card1.max())\n",
        "    card2 = tt(1 - card2 / card2.max())\n",
        "    card3 = tt(1 - card3 / card3.max())\n",
        "    card4 = tt(1 - card4 / card4.max())\n",
        "    return card1, card2, card3, card4\n",
        "\n",
        "\n",
        "import math\n",
        "def transform_imgs(cards, **kwargs):\n",
        "    np.random.seed(0)\n",
        "    torch.manual_seed(0)\n",
        "\n",
        "    a = kwargs.get(\"angle\")\n",
        "    t = kwargs.get(\"translation\")\n",
        "    s = (kwargs.get(\"shear\"))\n",
        "    if s is not None:\n",
        "        s = math.radians(s)\n",
        "\n",
        "\n",
        "    n_samples = kwargs.get(\"samples\", 3000)\n",
        "    n_samples_total = n_samples*4\n",
        "\n",
        "    card1, card2, card3, card4 = cards[0], cards[1], cards[2], cards[3]\n",
        "\n",
        "    card1 = card1[None, None].repeat_interleave(n_samples, dim = 0)\n",
        "    card2 = card2[None, None].repeat_interleave(n_samples, dim = 0)\n",
        "    card3 = card3[None, None].repeat_interleave(n_samples, dim = 0)\n",
        "    card4 = card4[None, None].repeat_interleave(n_samples, dim = 0)\n",
        "\n",
        "    cards_all = torch.cat((card1, card2, card3, card4), dim = 0)\n",
        "\n",
        "    angles = tt(np.random.uniform(low = -a, high = a, size = [n_samples_total]))\n",
        "    translations = tt(np.random.uniform(low = -t, high = t, size = [n_samples_total,1])).repeat_interleave(2, dim = 1)\n",
        "    shears = tt(np.random.uniform(low = -s, high = s, size = [n_samples_total, 1])).repeat_interleave(2, dim = 1)\n",
        "\n",
        "    transform = nn.Sequential(\n",
        "        K.augmentation.CenterCrop((48, 48)),\n",
        "        K.geometry.Affine(angle = angles, translation = translations,\n",
        "                          shear = shears)\n",
        "    )\n",
        "\n",
        "    cards = transform(cards_all).squeeze().float()\n",
        "    labels = torch.cat([torch.zeros(len(card1)), torch.ones(len(card2)),\n",
        "                           2*torch.ones(len(card3)), 3*torch.ones(len(card4))])\n",
        "\n",
        "    labels_onehot = pv.utils.to_onehot(labels.to(torch.int64), 4)\n",
        "    return cards, labels_onehot, angles, translations, shears\n",
        "\n",
        "\n",
        "def plot_manifolds(model):\n",
        "    fig, axes = plt.subplots(2, 2, figsize=(12, 12),\n",
        "                            subplot_kw={'xticks':[], 'yticks':[]},\n",
        "                            gridspec_kw=dict(hspace=0.1, wspace=0.05))\n",
        "    for i, ax in enumerate(axes.flat):\n",
        "        manifold = model.manifold2d(d=9, label=i, plot=False)\n",
        "        grid = make_grid(manifold[:, None], nrow=9, pad_value=.5)\n",
        "        ax.imshow(grid[0], cmap='viridis')\n",
        "    plt.show()"
      ],
      "metadata": {
        "id": "Trulxp3Tx9O6"
      },
      "execution_count": null,
      "outputs": []
    },
    {
      "cell_type": "code",
      "source": [
        "# Downloading the cards dataset\n",
        "!gdown -q https://drive.google.com/uc?id=1AyGHVflbIjzinkKBURHNVDx1wWg9JixB\n",
        "!unzip -o -qq cards.zip"
      ],
      "metadata": {
        "id": "szLTYNGTdztK"
      },
      "execution_count": null,
      "outputs": []
    },
    {
      "cell_type": "markdown",
      "source": [
        "Here we make 4 different datasets using the above helper functions which are as follows:  \n",
        "*  cards-i: low rotations (12 degrees) and low shear (1 degree)\n",
        "*  cards-ii: low rotations (12 degrees) and high shear (20 degrees)\n",
        "*  cards-iii: high rotations (120 degrees) and low shear (1 degree)\n",
        "*  cards-iv: high rotations (120 degrees) and high shear (20 degrees)"
      ],
      "metadata": {
        "id": "Xl_f8wR_d1_D"
      }
    },
    {
      "cell_type": "code",
      "source": [
        "# We save the ground truth labels for crVAE\n",
        "# And the ground truth values of the transformations applied to analyze the latent spaces.\n",
        "\n",
        "cards = get_data()\n",
        "cards_all1, labels_all1, angles_all1, translations_all1, shears_all1 = transform_imgs(cards, angle = 12, translation = 0.1, shear = 1, samples = 3000)\n",
        "cards_all2, labels_all2, angles_all2, translations_all2, shears_all2 = transform_imgs(cards, angle = 12, translation = 0.1, shear = 20, samples = 3000)\n",
        "cards_all3, labels_all3, angles_all3, translations_all3, shears_all3 = transform_imgs(cards, angle = 120, translation = 0.1, shear = 1, samples = 3000)\n",
        "cards_all4, labels_all4, angles_all4, translations_all4, shears_all4 = transform_imgs(cards, angle = 120, translation = 0.1, shear = 20, samples = 3000)"
      ],
      "metadata": {
        "id": "vYFgnjhhtQzj"
      },
      "execution_count": null,
      "outputs": []
    },
    {
      "cell_type": "code",
      "source": [
        "# Visualizing the cards before applying transformations\n",
        "fig, ax = plt.subplots(ncols = 4, figsize = (8,2))\n",
        "for i in range(4):\n",
        "    ax[i].imshow(cards[i], cmap = 'gnuplot')\n",
        "    ax[i].axis('off')"
      ],
      "metadata": {
        "colab": {
          "base_uri": "https://localhost:8080/",
          "height": 171
        },
        "id": "AY5Gx5yg3H9L",
        "outputId": "6bf6fcb2-d826-4c4f-9dfc-5b9f92035855"
      },
      "execution_count": null,
      "outputs": [
        {
          "output_type": "display_data",
          "data": {
            "text/plain": [
              "<Figure size 800x200 with 4 Axes>"
            ],
            "image/png": "[encoded data removed]"
          },
          "metadata": {}
        }
      ]
    },
    {
      "cell_type": "markdown",
      "source": [
        "# Training\n",
        "*   Here we train one model of crVAE per dataset and save the weights.\n",
        "*   One can skip this section to save time.\n",
        "*   These weights will be loaded into the notebook in the next section to make it time-efficient"
      ],
      "metadata": {
        "id": "CUusq-ZfePw5"
      }
    },
    {
      "cell_type": "code",
      "source": [
        "#Train Loaders, unlike the rVAE, here the labels are also a part of the trainloader\n",
        "\n",
        "# None corresponds to adding a dummy channel dimension to the dataset\n",
        "train_loader1 = pv.utils.init_dataloader(cards_all1[:, None], labels_all1, batch_size=50)   #cards-i\n",
        "train_loader2 = pv.utils.init_dataloader(cards_all2[:, None], labels_all2, batch_size=50)   #cards-ii\n",
        "train_loader3 = pv.utils.init_dataloader(cards_all3[:, None], labels_all3, batch_size=50)   #cards-iii\n",
        "train_loader4 = pv.utils.init_dataloader(cards_all4[:, None], labels_all4, batch_size=50)   #cards-iv"
      ],
      "metadata": {
        "id": "19itgCEcWnWF"
      },
      "execution_count": null,
      "outputs": []
    },
    {
      "cell_type": "code",
      "source": [
        "# Training the crVAE1 on cards-i\n",
        "\n",
        "in_dim = (48, 48)   # Input dimensions of the dataset i.e., shape of each card's image\n",
        "\n",
        "# Initialize probabilistic VAE model ->\n",
        "# (invariances=None: vanilla VAE\n",
        "#  invariances=['r']: enforces rotational invariance\n",
        "#  invariances=['t']: enforces translational invariance\n",
        "#  invariances=['r', 't']: enforces invariance to rotations & translations\n",
        "#  etc.)\n",
        "crvae1 = pv.models.iVAE(in_dim, latent_dim=2,    # Number of latent dimensions other than the invariancies and class labels\n",
        "                        c_dim = 4,   # Corresponds to the number of discrete classes in the dataset, these get concatenated to the encoder and decoder automatically\n",
        "                      hidden_dim_e = [256,256],   # corresponds to the number of neurons in the hidden layers of the encoder\n",
        "                     hidden_dim_d = [256,256],    # corresponds to the number of neurons in the hidden layers of the decoder\n",
        "                     invariances=['r'], seed=0)\n",
        "\n",
        "# Initialize SVI trainer\n",
        "trainer1 = pv.trainers.SVItrainer(crvae1)\n",
        "# Train for n epochs:\n",
        "for e in range(100):\n",
        "    trainer1.step(train_loader1)\n",
        "    trainer1.print_statistics()\n",
        "\n",
        "# Saving the weights of the trained crVAE1 model on cards-i\n",
        "crvae1.save_weights('/content/drive/MyDrive/VAE Review/crvae_files/crave1')"
      ],
      "metadata": {
        "id": "UMs4q6Lsttmc",
        "colab": {
          "base_uri": "https://localhost:8080/",
          "height": 1000
        },
        "outputId": "c73bd97a-f86b-4032-bf3a-a92ed09885f2"
      },
      "execution_count": null,
      "outputs": [
        {
          "output_type": "stream",
          "name": "stdout",
          "text": [
            "Epoch: 1 Training loss: 532.9758\n",
            "Epoch: 2 Training loss: 235.5862\n",
            "Epoch: 3 Training loss: 181.7076\n",
            "Epoch: 4 Training loss: 141.4826\n",
            "Epoch: 5 Training loss: 124.5735\n",
            "Epoch: 6 Training loss: 114.4570\n",
            "Epoch: 7 Training loss: 107.5991\n",
            "Epoch: 8 Training loss: 102.7164\n",
            "Epoch: 9 Training loss: 99.2995\n",
            "Epoch: 10 Training loss: 95.9591\n",
            "Epoch: 11 Training loss: 94.4574\n",
            "Epoch: 12 Training loss: 94.1248\n",
            "Epoch: 13 Training loss: 91.4784\n",
            "Epoch: 14 Training loss: 89.9675\n",
            "Epoch: 15 Training loss: 90.0478\n",
            "Epoch: 16 Training loss: 88.4633\n",
            "Epoch: 17 Training loss: 87.0561\n",
            "Epoch: 18 Training loss: 86.8243\n",
            "Epoch: 19 Training loss: 85.4625\n",
            "Epoch: 20 Training loss: 85.3742\n",
            "Epoch: 21 Training loss: 85.0257\n",
            "Epoch: 22 Training loss: 84.6261\n",
            "Epoch: 23 Training loss: 85.7041\n",
            "Epoch: 24 Training loss: 83.1370\n",
            "Epoch: 25 Training loss: 83.6706\n",
            "Epoch: 26 Training loss: 84.2428\n",
            "Epoch: 27 Training loss: 82.9594\n",
            "Epoch: 28 Training loss: 82.9336\n",
            "Epoch: 29 Training loss: 81.9363\n",
            "Epoch: 30 Training loss: 81.7262\n",
            "Epoch: 31 Training loss: 82.2002\n",
            "Epoch: 32 Training loss: 81.9048\n",
            "Epoch: 33 Training loss: 84.0448\n",
            "Epoch: 34 Training loss: 81.0800\n",
            "Epoch: 35 Training loss: 80.9185\n",
            "Epoch: 36 Training loss: 80.7761\n",
            "Epoch: 37 Training loss: 81.0214\n",
            "Epoch: 38 Training loss: 81.2333\n",
            "Epoch: 39 Training loss: 80.6177\n",
            "Epoch: 40 Training loss: 81.2996\n",
            "Epoch: 41 Training loss: 80.4720\n",
            "Epoch: 42 Training loss: 80.6064\n",
            "Epoch: 43 Training loss: 80.1832\n",
            "Epoch: 44 Training loss: 80.6199\n",
            "Epoch: 45 Training loss: 80.2473\n",
            "Epoch: 46 Training loss: 80.1532\n",
            "Epoch: 47 Training loss: 79.7184\n",
            "Epoch: 48 Training loss: 80.5919\n",
            "Epoch: 49 Training loss: 79.5140\n",
            "Epoch: 50 Training loss: 79.7563\n",
            "Epoch: 51 Training loss: 80.7549\n",
            "Epoch: 52 Training loss: 79.3087\n",
            "Epoch: 53 Training loss: 80.3072\n",
            "Epoch: 54 Training loss: 79.7223\n",
            "Epoch: 55 Training loss: 79.7212\n",
            "Epoch: 56 Training loss: 79.1909\n",
            "Epoch: 57 Training loss: 79.8646\n",
            "Epoch: 58 Training loss: 80.1214\n",
            "Epoch: 59 Training loss: 79.2451\n",
            "Epoch: 60 Training loss: 79.7370\n",
            "Epoch: 61 Training loss: 78.7556\n",
            "Epoch: 62 Training loss: 79.9218\n",
            "Epoch: 63 Training loss: 78.9272\n",
            "Epoch: 64 Training loss: 79.4819\n",
            "Epoch: 65 Training loss: 78.9106\n",
            "Epoch: 66 Training loss: 79.3146\n",
            "Epoch: 67 Training loss: 79.3965\n",
            "Epoch: 68 Training loss: 79.3093\n",
            "Epoch: 69 Training loss: 78.8317\n",
            "Epoch: 70 Training loss: 79.8122\n",
            "Epoch: 71 Training loss: 78.6968\n",
            "Epoch: 72 Training loss: 79.1996\n",
            "Epoch: 73 Training loss: 78.7370\n",
            "Epoch: 74 Training loss: 78.5336\n",
            "Epoch: 75 Training loss: 78.8531\n",
            "Epoch: 76 Training loss: 79.2352\n",
            "Epoch: 77 Training loss: 79.3993\n",
            "Epoch: 78 Training loss: 78.3480\n",
            "Epoch: 79 Training loss: 78.8517\n",
            "Epoch: 80 Training loss: 78.4072\n",
            "Epoch: 81 Training loss: 78.4548\n",
            "Epoch: 82 Training loss: 78.4111\n",
            "Epoch: 83 Training loss: 79.8076\n",
            "Epoch: 84 Training loss: 78.2898\n",
            "Epoch: 85 Training loss: 78.9043\n",
            "Epoch: 86 Training loss: 78.0370\n",
            "Epoch: 87 Training loss: 78.6066\n",
            "Epoch: 88 Training loss: 78.1963\n",
            "Epoch: 89 Training loss: 78.4435\n",
            "Epoch: 90 Training loss: 78.5048\n",
            "Epoch: 91 Training loss: 77.7888\n",
            "Epoch: 92 Training loss: 78.3735\n",
            "Epoch: 93 Training loss: 78.0804\n",
            "Epoch: 94 Training loss: 78.5166\n",
            "Epoch: 95 Training loss: 78.4781\n",
            "Epoch: 96 Training loss: 78.4158\n",
            "Epoch: 97 Training loss: 78.5546\n",
            "Epoch: 98 Training loss: 77.7414\n",
            "Epoch: 99 Training loss: 77.6384\n",
            "Epoch: 100 Training loss: 78.3799\n"
          ]
        },
        {
          "output_type": "error",
          "ename": "RuntimeError",
          "evalue": "ignored",
          "traceback": [
            "\u001b[0;31m---------------------------------------------------------------------------\u001b[0m",
            "\u001b[0;31mRuntimeError\u001b[0m                              Traceback (most recent call last)",
            "\u001b[0;32m<ipython-input-8-29e3a54e6ed3>\u001b[0m in \u001b[0;36m<cell line: 25>\u001b[0;34m()\u001b[0m\n\u001b[1;32m     23\u001b[0m \u001b[0;34m\u001b[0m\u001b[0m\n\u001b[1;32m     24\u001b[0m \u001b[0;31m# Saving the weights of the trained crVAE1 model on cards-i\u001b[0m\u001b[0;34m\u001b[0m\u001b[0;34m\u001b[0m\u001b[0m\n\u001b[0;32m---> 25\u001b[0;31m \u001b[0mcrvae1\u001b[0m\u001b[0;34m.\u001b[0m\u001b[0msave_weights\u001b[0m\u001b[0;34m(\u001b[0m\u001b[0;34m'/content/drive/MyDrive/VAE Review/crvae_files/crave1'\u001b[0m\u001b[0;34m)\u001b[0m\u001b[0;34m\u001b[0m\u001b[0;34m\u001b[0m\u001b[0m\n\u001b[0m",
            "\u001b[0;32m/usr/local/lib/python3.9/dist-packages/pyroved/models/base.py\u001b[0m in \u001b[0;36msave_weights\u001b[0;34m(self, filepath)\u001b[0m\n\u001b[1;32m    184\u001b[0m         \u001b[0;34m\"\"\"Saves trained weights of encoder(s) and decoder.\"\"\"\u001b[0m\u001b[0;34m\u001b[0m\u001b[0;34m\u001b[0m\u001b[0m\n\u001b[1;32m    185\u001b[0m \u001b[0;34m\u001b[0m\u001b[0m\n\u001b[0;32m--> 186\u001b[0;31m         \u001b[0mtorch\u001b[0m\u001b[0;34m.\u001b[0m\u001b[0msave\u001b[0m\u001b[0;34m(\u001b[0m\u001b[0mself\u001b[0m\u001b[0;34m.\u001b[0m\u001b[0mstate_dict\u001b[0m\u001b[0;34m(\u001b[0m\u001b[0;34m)\u001b[0m\u001b[0;34m,\u001b[0m \u001b[0mfilepath\u001b[0m \u001b[0;34m+\u001b[0m \u001b[0;34m'.pt'\u001b[0m\u001b[0;34m)\u001b[0m\u001b[0;34m\u001b[0m\u001b[0;34m\u001b[0m\u001b[0m\n\u001b[0m\u001b[1;32m    187\u001b[0m \u001b[0;34m\u001b[0m\u001b[0m\n\u001b[1;32m    188\u001b[0m     \u001b[0;32mdef\u001b[0m \u001b[0mload_weights\u001b[0m\u001b[0;34m(\u001b[0m\u001b[0mself\u001b[0m\u001b[0;34m,\u001b[0m \u001b[0mfilepath\u001b[0m\u001b[0;34m:\u001b[0m \u001b[0mstr\u001b[0m\u001b[0;34m)\u001b[0m \u001b[0;34m->\u001b[0m \u001b[0;32mNone\u001b[0m\u001b[0;34m:\u001b[0m\u001b[0;34m\u001b[0m\u001b[0;34m\u001b[0m\u001b[0m\n",
            "\u001b[0;32m/usr/local/lib/python3.9/dist-packages/torch/serialization.py\u001b[0m in \u001b[0;36msave\u001b[0;34m(obj, f, pickle_module, pickle_protocol, _use_new_zipfile_serialization)\u001b[0m\n\u001b[1;32m    438\u001b[0m \u001b[0;34m\u001b[0m\u001b[0m\n\u001b[1;32m    439\u001b[0m     \u001b[0;32mif\u001b[0m \u001b[0m_use_new_zipfile_serialization\u001b[0m\u001b[0;34m:\u001b[0m\u001b[0;34m\u001b[0m\u001b[0;34m\u001b[0m\u001b[0m\n\u001b[0;32m--> 440\u001b[0;31m         \u001b[0;32mwith\u001b[0m \u001b[0m_open_zipfile_writer\u001b[0m\u001b[0;34m(\u001b[0m\u001b[0mf\u001b[0m\u001b[0;34m)\u001b[0m \u001b[0;32mas\u001b[0m \u001b[0mopened_zipfile\u001b[0m\u001b[0;34m:\u001b[0m\u001b[0;34m\u001b[0m\u001b[0;34m\u001b[0m\u001b[0m\n\u001b[0m\u001b[1;32m    441\u001b[0m             \u001b[0m_save\u001b[0m\u001b[0;34m(\u001b[0m\u001b[0mobj\u001b[0m\u001b[0;34m,\u001b[0m \u001b[0mopened_zipfile\u001b[0m\u001b[0;34m,\u001b[0m \u001b[0mpickle_module\u001b[0m\u001b[0;34m,\u001b[0m \u001b[0mpickle_protocol\u001b[0m\u001b[0;34m)\u001b[0m\u001b[0;34m\u001b[0m\u001b[0;34m\u001b[0m\u001b[0m\n\u001b[1;32m    442\u001b[0m             \u001b[0;32mreturn\u001b[0m\u001b[0;34m\u001b[0m\u001b[0;34m\u001b[0m\u001b[0m\n",
            "\u001b[0;32m/usr/local/lib/python3.9/dist-packages/torch/serialization.py\u001b[0m in \u001b[0;36m_open_zipfile_writer\u001b[0;34m(name_or_buffer)\u001b[0m\n\u001b[1;32m    313\u001b[0m     \u001b[0;32melse\u001b[0m\u001b[0;34m:\u001b[0m\u001b[0;34m\u001b[0m\u001b[0;34m\u001b[0m\u001b[0m\n\u001b[1;32m    314\u001b[0m         \u001b[0mcontainer\u001b[0m \u001b[0;34m=\u001b[0m \u001b[0m_open_zipfile_writer_buffer\u001b[0m\u001b[0;34m\u001b[0m\u001b[0;34m\u001b[0m\u001b[0m\n\u001b[0;32m--> 315\u001b[0;31m     \u001b[0;32mreturn\u001b[0m \u001b[0mcontainer\u001b[0m\u001b[0;34m(\u001b[0m\u001b[0mname_or_buffer\u001b[0m\u001b[0;34m)\u001b[0m\u001b[0;34m\u001b[0m\u001b[0;34m\u001b[0m\u001b[0m\n\u001b[0m\u001b[1;32m    316\u001b[0m \u001b[0;34m\u001b[0m\u001b[0m\n\u001b[1;32m    317\u001b[0m \u001b[0;34m\u001b[0m\u001b[0m\n",
            "\u001b[0;32m/usr/local/lib/python3.9/dist-packages/torch/serialization.py\u001b[0m in \u001b[0;36m__init__\u001b[0;34m(self, name)\u001b[0m\n\u001b[1;32m    286\u001b[0m \u001b[0;32mclass\u001b[0m \u001b[0m_open_zipfile_writer_file\u001b[0m\u001b[0;34m(\u001b[0m\u001b[0m_opener\u001b[0m\u001b[0;34m)\u001b[0m\u001b[0;34m:\u001b[0m\u001b[0;34m\u001b[0m\u001b[0;34m\u001b[0m\u001b[0m\n\u001b[1;32m    287\u001b[0m     \u001b[0;32mdef\u001b[0m \u001b[0m__init__\u001b[0m\u001b[0;34m(\u001b[0m\u001b[0mself\u001b[0m\u001b[0;34m,\u001b[0m \u001b[0mname\u001b[0m\u001b[0;34m)\u001b[0m \u001b[0;34m->\u001b[0m \u001b[0;32mNone\u001b[0m\u001b[0;34m:\u001b[0m\u001b[0;34m\u001b[0m\u001b[0;34m\u001b[0m\u001b[0m\n\u001b[0;32m--> 288\u001b[0;31m         \u001b[0msuper\u001b[0m\u001b[0;34m(\u001b[0m\u001b[0;34m)\u001b[0m\u001b[0;34m.\u001b[0m\u001b[0m__init__\u001b[0m\u001b[0;34m(\u001b[0m\u001b[0mtorch\u001b[0m\u001b[0;34m.\u001b[0m\u001b[0m_C\u001b[0m\u001b[0;34m.\u001b[0m\u001b[0mPyTorchFileWriter\u001b[0m\u001b[0;34m(\u001b[0m\u001b[0mstr\u001b[0m\u001b[0;34m(\u001b[0m\u001b[0mname\u001b[0m\u001b[0;34m)\u001b[0m\u001b[0;34m)\u001b[0m\u001b[0;34m)\u001b[0m\u001b[0;34m\u001b[0m\u001b[0;34m\u001b[0m\u001b[0m\n\u001b[0m\u001b[1;32m    289\u001b[0m \u001b[0;34m\u001b[0m\u001b[0m\n\u001b[1;32m    290\u001b[0m     \u001b[0;32mdef\u001b[0m \u001b[0m__exit__\u001b[0m\u001b[0;34m(\u001b[0m\u001b[0mself\u001b[0m\u001b[0;34m,\u001b[0m \u001b[0;34m*\u001b[0m\u001b[0margs\u001b[0m\u001b[0;34m)\u001b[0m \u001b[0;34m->\u001b[0m \u001b[0;32mNone\u001b[0m\u001b[0;34m:\u001b[0m\u001b[0;34m\u001b[0m\u001b[0;34m\u001b[0m\u001b[0m\n",
            "\u001b[0;31mRuntimeError\u001b[0m: Parent directory /content/drive/MyDrive/VAE Review/crvae_files does not exist."
          ]
        }
      ]
    },
    {
      "cell_type": "code",
      "source": [
        "# Training the crVAE2 on cards-ii\n",
        "\n",
        "in_dim = (48, 48)   # Input dimensions of the dataset i.e., shape of each card's image\n",
        "\n",
        "\n",
        "# Initialize probabilistic VAE model ->\n",
        "# (invariances=None: vanilla VAE\n",
        "#  invariances=['r']: enforces rotational invariance\n",
        "#  invariances=['t']: enforces translational invariance\n",
        "#  invariances=['r', 't']: enforces invariance to rotations & translations\n",
        "#  etc.)\n",
        "crvae2 = pv.models.iVAE(in_dim, latent_dim=2,   # Number of latent dimensions other than the invariancies and class labels\n",
        "                        c_dim = 4,   # Corresponds to the number of discrete classes in the dataset, these get concatenated to the encoder and decoder automatically\n",
        "                      hidden_dim_e = [256,256],   # corresponds to the number of neurons in the hidden layers of the encoder\n",
        "                     hidden_dim_d = [256,256],   # corresponds to the number of neurons in the hidden layers of the decoder\n",
        "                     invariances=['r'], seed=0)\n",
        "\n",
        "# Initialize SVI trainer\n",
        "trainer2 = pv.trainers.SVItrainer(crvae2)\n",
        "# Train for n epochs:\n",
        "for e in range(100):\n",
        "    trainer2.step(train_loader2)\n",
        "    trainer2.print_statistics()\n",
        "\n",
        "# Saving the weights of the trained crVAE2 model on cards-ii\n",
        "# crvae2.save_weights('/content/drive/MyDrive/VAE Review/crvae_files/crave2')"
      ],
      "metadata": {
        "colab": {
          "base_uri": "https://localhost:8080/"
        },
        "id": "VkPg8LbWt9s9",
        "outputId": "3ffa852f-39d5-4142-9ccc-ed634819e426"
      },
      "execution_count": null,
      "outputs": [
        {
          "output_type": "stream",
          "name": "stdout",
          "text": [
            "Epoch: 1 Training loss: 588.7591\n",
            "Epoch: 2 Training loss: 328.4248\n",
            "Epoch: 3 Training loss: 248.1311\n",
            "Epoch: 4 Training loss: 203.8312\n",
            "Epoch: 5 Training loss: 170.5263\n",
            "Epoch: 6 Training loss: 148.5587\n",
            "Epoch: 7 Training loss: 135.8697\n",
            "Epoch: 8 Training loss: 133.2234\n",
            "Epoch: 9 Training loss: 123.8817\n",
            "Epoch: 10 Training loss: 124.9711\n",
            "Epoch: 11 Training loss: 117.1617\n",
            "Epoch: 12 Training loss: 117.8607\n",
            "Epoch: 13 Training loss: 111.1267\n",
            "Epoch: 14 Training loss: 112.4652\n",
            "Epoch: 15 Training loss: 107.4927\n",
            "Epoch: 16 Training loss: 114.0145\n",
            "Epoch: 17 Training loss: 103.7819\n",
            "Epoch: 18 Training loss: 105.4050\n",
            "Epoch: 19 Training loss: 102.4699\n",
            "Epoch: 20 Training loss: 102.7087\n",
            "Epoch: 21 Training loss: 104.3618\n",
            "Epoch: 22 Training loss: 100.4642\n",
            "Epoch: 23 Training loss: 100.0843\n",
            "Epoch: 24 Training loss: 103.4682\n",
            "Epoch: 25 Training loss: 98.7285\n",
            "Epoch: 26 Training loss: 99.0776\n",
            "Epoch: 27 Training loss: 100.0739\n",
            "Epoch: 28 Training loss: 97.5046\n",
            "Epoch: 29 Training loss: 98.1350\n",
            "Epoch: 30 Training loss: 100.2412\n",
            "Epoch: 31 Training loss: 97.6043\n",
            "Epoch: 32 Training loss: 96.1696\n",
            "Epoch: 33 Training loss: 98.6759\n",
            "Epoch: 34 Training loss: 98.7914\n",
            "Epoch: 35 Training loss: 95.9348\n",
            "Epoch: 36 Training loss: 96.2119\n",
            "Epoch: 37 Training loss: 95.7640\n",
            "Epoch: 38 Training loss: 95.4854\n",
            "Epoch: 39 Training loss: 97.4814\n",
            "Epoch: 40 Training loss: 94.7851\n",
            "Epoch: 41 Training loss: 95.6319\n",
            "Epoch: 42 Training loss: 94.7459\n",
            "Epoch: 43 Training loss: 96.2497\n",
            "Epoch: 44 Training loss: 96.0312\n",
            "Epoch: 45 Training loss: 94.9554\n",
            "Epoch: 46 Training loss: 95.6878\n",
            "Epoch: 47 Training loss: 93.6191\n",
            "Epoch: 48 Training loss: 92.3620\n",
            "Epoch: 49 Training loss: 95.3294\n",
            "Epoch: 50 Training loss: 93.3887\n",
            "Epoch: 51 Training loss: 93.8511\n",
            "Epoch: 52 Training loss: 96.2096\n",
            "Epoch: 53 Training loss: 93.2686\n",
            "Epoch: 54 Training loss: 94.4840\n",
            "Epoch: 55 Training loss: 93.9892\n",
            "Epoch: 56 Training loss: 92.0171\n",
            "Epoch: 57 Training loss: 92.8375\n",
            "Epoch: 58 Training loss: 92.5490\n",
            "Epoch: 59 Training loss: 92.7822\n",
            "Epoch: 60 Training loss: 92.1538\n",
            "Epoch: 61 Training loss: 91.0428\n",
            "Epoch: 62 Training loss: 93.8915\n",
            "Epoch: 63 Training loss: 93.8473\n",
            "Epoch: 64 Training loss: 92.0152\n",
            "Epoch: 65 Training loss: 90.7474\n",
            "Epoch: 66 Training loss: 91.5220\n",
            "Epoch: 67 Training loss: 93.2087\n",
            "Epoch: 68 Training loss: 90.4324\n",
            "Epoch: 69 Training loss: 91.0391\n",
            "Epoch: 70 Training loss: 90.9112\n",
            "Epoch: 71 Training loss: 91.4206\n",
            "Epoch: 72 Training loss: 91.2426\n",
            "Epoch: 73 Training loss: 91.0847\n",
            "Epoch: 74 Training loss: 90.6172\n",
            "Epoch: 75 Training loss: 92.7147\n"
          ]
        }
      ]
    },
    {
      "cell_type": "code",
      "source": [
        "# Training the crVAE3 on cards-iii\n",
        "in_dim = (48, 48)   # Input dimensions of the dataset i.e., shape of each card's image\n",
        "\n",
        "# Initialize probabilistic VAE model ->\n",
        "# (invariances=None: vanilla VAE\n",
        "#  invariances=['r']: enforces rotational invariance\n",
        "#  invariances=['t']: enforces translational invariance\n",
        "#  invariances=['r', 't']: enforces invariance to rotations & translations\n",
        "#  etc.)\n",
        "crvae3 = pv.models.iVAE(in_dim, latent_dim=2, # Number of latent dimensions other than the invariancies\n",
        "                        c_dim = 4,   # Corresponds to the number of discrete classes in the dataset, these get concatenated to the encoder and decoder automatically\n",
        "                        hidden_dim_e = [256,256],   # corresponds to the number of neurons in the hidden layers of the encoder\n",
        "                        hidden_dim_d = [256,256],   # corresponds to the number of neurons in the hidden layers of the decoder\n",
        "                        invariances=['r'], seed=5)\n",
        "\n",
        "# Initialize SVI trainer\n",
        "trainer3 = pv.trainers.SVItrainer(crvae3)\n",
        "# Train for n epochs:\n",
        "for e in range(100):\n",
        "    trainer3.step(train_loader3)\n",
        "    trainer3.print_statistics()\n",
        "# Saving the weights of the trained crVAE3 model on cards-iii\n",
        "#crvae3.save_weights('/content/drive/MyDrive/VAE Review/crvae_files/crave3')"
      ],
      "metadata": {
        "id": "Chf682NZuGMg"
      },
      "execution_count": null,
      "outputs": []
    },
    {
      "cell_type": "code",
      "source": [
        "# Training the rVAE on cards-iv\n",
        "in_dim = (48, 48)   # Input dimensions of the dataset i.e., shape of each card's image\n",
        "\n",
        "\n",
        "# Initialize probabilistic VAE model ->\n",
        "# (invariances=None: vanilla VAE\n",
        "#  invariances=['r']: enforces rotational invariance\n",
        "#  invariances=['t']: enforces translational invariance\n",
        "#  invariances=['r', 't']: enforces invariance to rotations & translations\n",
        "#  etc.)\n",
        "crvae4 = pv.models.iVAE(in_dim, latent_dim=2, # Number of latent dimensions other than the invariancies\n",
        "                        c_dim = 4,   # Corresponds to the number of discrete classes in the dataset, these get concatenated to the encoder and decoder automatically\n",
        "                        hidden_dim_e = [256,256],   # corresponds to the number of neurons in the hidden layers of the encoder\n",
        "                        hidden_dim_d = [256,256],   # corresponds to the number of neurons in the hidden layers of the decoder\n",
        "                        invariances=['r'], seed=0)\n",
        "\n",
        "# Initialize SVI trainer\n",
        "trainer4 = pv.trainers.SVItrainer(crvae4)\n",
        "# Train for n epochs:\n",
        "for e in range(100):\n",
        "    trainer4.step(train_loader4)\n",
        "    trainer4.print_statistics()\n",
        "# Saving the weights of the trained crVAE4 model on cards-iv\n",
        "# crvae4.save_weights('/content/drive/MyDrive/VAE Review/crvae_files/crave4')"
      ],
      "metadata": {
        "id": "pE9D2UF9uQnw"
      },
      "execution_count": null,
      "outputs": []
    },
    {
      "cell_type": "markdown",
      "source": [
        "# Visulizing the results\n",
        "Saved weights will be downloaded in the corresponding sections"
      ],
      "metadata": {
        "id": "WTpSSrWkFHz5"
      }
    },
    {
      "cell_type": "markdown",
      "source": [
        "## cards-i\n",
        "Low rotation (12 deg) and low shear (1 deg)"
      ],
      "metadata": {
        "id": "2tXc4ssrHfZA"
      }
    },
    {
      "cell_type": "code",
      "source": [
        "# First let's just visualize some randomly picked samples from the input dataset\n",
        "\n",
        "np.random.seed(1)  # fix seed so that we get the same samples displayed at every run\n",
        "fig, axes = plt.subplots(10, 10, figsize=(8, 8),\n",
        "                         subplot_kw={'xticks':[], 'yticks':[]},\n",
        "                         gridspec_kw=dict(hspace=0.1, wspace=0.1))\n",
        "\n",
        "for ax in axes.flat:\n",
        "    i = np.random.randint(len(cards_all1))\n",
        "    ax.imshow(cards_all1[i], cmap='gnuplot', interpolation='nearest')"
      ],
      "metadata": {
        "id": "sSAzs8lVEcwH"
      },
      "execution_count": null,
      "outputs": []
    },
    {
      "cell_type": "code",
      "source": [
        "# Initializing a new network\n",
        "in_dim = (48,48)\n",
        "crvae1 = pv.models.iVAE(in_dim, latent_dim=2, c_dim = 4,\n",
        "                      hidden_dim_e = [256,256],\n",
        "                     hidden_dim_d = [256,256],\n",
        "                     invariances=['r'], seed=1)\n",
        "# Download the weigths file\n",
        "!gdown 1h2BRSRhT21e5R-AO1c5MeJYLKgNhMs-Y\n",
        "\n",
        "# Loading the saved weights into the newly initialized network\n",
        "crvae1.load_weights('crvae1.pt')"
      ],
      "metadata": {
        "id": "VArFwCRMFM2w"
      },
      "execution_count": null,
      "outputs": []
    },
    {
      "cell_type": "code",
      "source": [
        "# Decoded latent space:\n",
        "# The latent space is uniformly sampled in z1-z2 latent dimensions.\n",
        "# These points are decoded back into the image space and are plotted in their corresponding latent space positions\n",
        "# Since the latent space of crVAE is conditioned on the class label, we get one latent space for each class\n",
        "\n",
        "for cls in range(4):\n",
        "    cls = pv.utils.to_onehot(tt([cls,]), 4)\n",
        "    crvae1.manifold2d(d=9, y=cls, cmap=\"gnuplot\")   # d corresponds to the number of points sampled in each latent dimension"
      ],
      "metadata": {
        "id": "oatwb5JEFW1a"
      },
      "execution_count": null,
      "outputs": []
    },
    {
      "cell_type": "markdown",
      "source": [
        "Latent Distributions:  \n",
        "Input images are represented as points in the latent space using the encoder  \n",
        "These points are then colored with various ground-truth properties to visualize their distribution"
      ],
      "metadata": {
        "id": "382KxqSrhdkD"
      }
    },
    {
      "cell_type": "code",
      "source": [
        "targets_all1 = torch.argmax(labels_all1, dim = 1)  # Obtaining the classes from one-hot encoded vectors\n",
        "z_mean1, z_sd1 = crvae1.encode(cards_all1[:, None], labels_all1)# Encoding the full input dataset\n",
        "# z_mean1: mean of the latent space representation of the input dataset,\n",
        "# z_sd1: standard deviation of the latent space representation of the input dataset,\n",
        "# 0th column corresponds to angle and then the regular latent dimensions (First invariant dimensions and then regular latent dimensions)\n",
        "\n",
        "\n",
        "# Latent distribution colored using the suit of each image\n",
        "fig, ax = plt.subplots(1, 1, figsize =(7, 6))\n",
        "im = ax.scatter(z_mean1[:,-1], z_mean1[:,-2], c=targets_all1, s=1, cmap='jet')\n",
        "ax.set_xlabel(\"$z_1$\", fontsize=14)\n",
        "ax.set_ylabel(\"$z_2$\", fontsize=14)\n",
        "cbar = fig.colorbar(im, ax=ax, shrink=.8)\n",
        "cbar.set_label(\"Label\", fontsize=14)\n",
        "cbar.ax.tick_params(labelsize=10)\n",
        "plt.show()\n",
        "\n",
        "# It should be noted that each suit (color) lives in an independent latent space from the other suits (colors)"
      ],
      "metadata": {
        "id": "PItZ2e87FgaG"
      },
      "execution_count": null,
      "outputs": []
    },
    {
      "cell_type": "markdown",
      "source": [
        "Since the latent space of each suit is independent, we plot the latent distributions in four different latent spaces corresponding to their suit"
      ],
      "metadata": {
        "id": "nO_4PfHMiRZw"
      }
    },
    {
      "cell_type": "code",
      "source": [
        "# Latent distribution colored using the ground truth shear applied on each image\n",
        "\n",
        "fig, ax = plt.subplots(nrows = 2, ncols = 2, figsize = (7,7))\n",
        "\n",
        "inds = np.zeros([len(targets_all1), 4], dtype = bool)\n",
        "for i in range(4):\n",
        "    inds[:, i] = np.asarray(targets_all1 == i, dtype = bool)\n",
        "\n",
        "ax[0,0].scatter(z_mean1[inds[:,0], -1], z_mean1[inds[:,0],-2], c=shears_all1[inds[:,0],0], s=1, cmap='jet')\n",
        "ax[0,0].set_xlabel(\"$z_1$\", fontsize=14)\n",
        "ax[0,0].set_ylabel(\"$z_2$\", fontsize=14)\n",
        "\n",
        "ax[0,1].scatter(z_mean1[inds[:,1], -1], z_mean1[inds[:,1],-2], c=shears_all1[inds[:,1],0], s=1, cmap='jet')\n",
        "ax[0,1].set_xlabel(\"$z_1$\", fontsize=14)\n",
        "ax[0,1].set_ylabel(\"$z_2$\", fontsize=14)\n",
        "\n",
        "ax[1,0].scatter(z_mean1[inds[:,2], -1], z_mean1[inds[:,2],-2], c=shears_all1[inds[:,2],0], s=1, cmap='jet')\n",
        "ax[1,0].set_xlabel(\"$z_1$\", fontsize=14)\n",
        "ax[1,0].set_ylabel(\"$z_2$\", fontsize=14)\n",
        "\n",
        "ax[1,1].scatter(z_mean1[inds[:,3], -1], z_mean1[inds[:,3],-2], c=shears_all1[inds[:,3],0], s=1, cmap='jet')\n",
        "ax[1,1].set_xlabel(\"$z_1$\", fontsize=14)\n",
        "ax[1,1].set_ylabel(\"$z_2$\", fontsize=14)\n",
        "\n"
      ],
      "metadata": {
        "id": "lfnNfMUQGBP8"
      },
      "execution_count": null,
      "outputs": []
    },
    {
      "cell_type": "code",
      "source": [
        "# Finally the plot of encoded angle vs. ground truth rotation applied to the images.\n",
        "# The points are colored using the suit of the images.\n",
        "\n",
        "fig, ax = plt.subplots(figsize = (7,7))\n",
        "ax.scatter(torch.deg2rad(angles_all1), z_mean1[:,0], c = targets_all1, s =1, cmap = 'jet')"
      ],
      "metadata": {
        "id": "uUPa1H60F7bp"
      },
      "execution_count": null,
      "outputs": []
    },
    {
      "cell_type": "markdown",
      "source": [
        "## cards-ii\n",
        "Low rotation (12 deg) High shear (20deg)"
      ],
      "metadata": {
        "id": "ovLC7izWHZ03"
      }
    },
    {
      "cell_type": "code",
      "source": [
        "# First let's just visualize some randomly picked samples from the input dataset\n",
        "\n",
        "np.random.seed(1)  # fix seed so that we get the same samples displayed at every run\n",
        "fig, axes = plt.subplots(10, 10, figsize=(8, 8),\n",
        "                         subplot_kw={'xticks':[], 'yticks':[]},\n",
        "                         gridspec_kw=dict(hspace=0.1, wspace=0.1))\n",
        "\n",
        "for ax in axes.flat:\n",
        "    i = np.random.randint(len(cards_all2))\n",
        "    ax.imshow(cards_all2[i], cmap='gnuplot', interpolation='nearest')"
      ],
      "metadata": {
        "id": "KurE5C8BHkUk"
      },
      "execution_count": null,
      "outputs": []
    },
    {
      "cell_type": "code",
      "source": [
        "# Initializing a new network\n",
        "in_dim = (48, 48)\n",
        "crvae2 = pv.models.iVAE(in_dim, latent_dim=2, c_dim = 4,\n",
        "                      hidden_dim_e = [256,256],\n",
        "                     hidden_dim_d = [256,256],\n",
        "                     invariances=['r'], seed=1)\n",
        "\n",
        "# Download the weigths file\n",
        "!gdown 1--OtYXcmrGaIaMZNQIVj-QjevZcW80CD\n",
        "\n",
        "# Loading the saved weights into the newly initialized network\n",
        "crvae2.load_weights('crvae2.pt')"
      ],
      "metadata": {
        "id": "pPtjm_80HqG_"
      },
      "execution_count": null,
      "outputs": []
    },
    {
      "cell_type": "code",
      "source": [
        "# Decoded latent space:\n",
        "# The latent space is uniformly sampled in z1-z2 latent dimensions.\n",
        "# These points are decoded back into the image space and are plotted in their corresponding latent space positions\n",
        "# Since the latent space of crVAE is conditioned on the class label, we get one latent space for each class\n",
        "\n",
        "for cls in range(4):\n",
        "    cls = pv.utils.to_onehot(tt([cls,]), 4)\n",
        "    crvae2.manifold2d(d=9, y=cls, cmap=\"viridis\")  # d corresponds to the number of points sampled in each latent dimension"
      ],
      "metadata": {
        "id": "1NNAik7xHwal"
      },
      "execution_count": null,
      "outputs": []
    },
    {
      "cell_type": "markdown",
      "source": [
        "Latent Distributions:  \n",
        "Input images are represented as points in the latent space using the encoder  \n",
        "These points are then colored with various ground-truth properties to visualize their distribution"
      ],
      "metadata": {
        "id": "mQBgHtUFkSCG"
      }
    },
    {
      "cell_type": "code",
      "source": [
        "targets_all2 = torch.argmax(labels_all2, dim = 1)   # Obtaining the classes from one-hot encoded vectors\n",
        "z_mean2, z_sd2 = crvae2.encode(cards_all2[:, None], labels_all2)   # Encoding the full input dataset\n",
        "# z_mean1: mean of the latent space representation of the input dataset,\n",
        "# z_sd1: standard deviation of the latent space representation of the input dataset,\n",
        "# 0th column corresponds to angle and then the regular latent dimensions (First invariant dimensions and then regular latent dimensions)\n",
        "\n",
        "# Latent distribution colored using the suit of each image\n",
        "fig, ax = plt.subplots(1, 1, figsize =(7, 6))\n",
        "im = ax.scatter(z_mean2[:,-1], z_mean2[:,-2], c=targets_all2, s=1, cmap='jet')\n",
        "ax.set_xlabel(\"$z_1$\", fontsize=14)\n",
        "ax.set_ylabel(\"$z_2$\", fontsize=14)\n",
        "cbar = fig.colorbar(im, ax=ax, shrink=.8)\n",
        "cbar.set_label(\"Label\", fontsize=14)\n",
        "cbar.ax.tick_params(labelsize=10)\n",
        "plt.show()\n",
        "\n",
        "# It should be noted that each suit (color) lives in an independent latent space from the other suits (colors)"
      ],
      "metadata": {
        "id": "USkYX5SJH1Qq"
      },
      "execution_count": null,
      "outputs": []
    },
    {
      "cell_type": "markdown",
      "source": [
        "Since the latent space of each suit is independent, we plot the latent distributions in four different latent spaces corresponding to their suit"
      ],
      "metadata": {
        "id": "lZa8d8vwlUu-"
      }
    },
    {
      "cell_type": "code",
      "source": [
        "# Latent distribution colored using the ground-truth shear of each image\n",
        "\n",
        "fig, ax = plt.subplots(nrows = 2, ncols = 2, figsize = (7,7))\n",
        "\n",
        "inds = np.zeros([len(targets_all2), 4], dtype = bool)\n",
        "for i in range(4):\n",
        "    inds[:, i] = np.asarray(targets_all2 == i, dtype = bool)\n",
        "\n",
        "ax[0,0].scatter(z_mean2[inds[:,0], -1], z_mean2[inds[:,0],-2], c=shears_all2[inds[:,0],0], s=1, cmap='jet')\n",
        "ax[0,0].set_xlabel(\"$z_1$\", fontsize=14)\n",
        "ax[0,0].set_ylabel(\"$z_2$\", fontsize=14)\n",
        "\n",
        "ax[0,1].scatter(z_mean2[inds[:,1], -1], z_mean2[inds[:,1],-2], c=shears_all2[inds[:,1],0], s=1, cmap='jet')\n",
        "ax[0,1].set_xlabel(\"$z_1$\", fontsize=14)\n",
        "ax[0,1].set_ylabel(\"$z_2$\", fontsize=14)\n",
        "\n",
        "ax[1,0].scatter(z_mean2[inds[:,2], -1], z_mean2[inds[:,2],-2], c=shears_all2[inds[:,2],0], s=1, cmap='jet')\n",
        "ax[1,0].set_xlabel(\"$z_1$\", fontsize=14)\n",
        "ax[1,0].set_ylabel(\"$z_2$\", fontsize=14)\n",
        "\n",
        "ax[1,1].scatter(z_mean2[inds[:,3], -1], z_mean2[inds[:,3],-2], c=shears_all2[inds[:,3],0], s=1, cmap='jet')\n",
        "ax[1,1].set_xlabel(\"$z_1$\", fontsize=14)\n",
        "ax[1,1].set_ylabel(\"$z_2$\", fontsize=14)"
      ],
      "metadata": {
        "id": "-2RW9yBQH85k"
      },
      "execution_count": null,
      "outputs": []
    },
    {
      "cell_type": "code",
      "source": [
        "# Finally the plot of encoded angle vs. ground truth rotation applied to the images.\n",
        "# The points are colored using the suit of the images.\n",
        "\n",
        "fig, ax = plt.subplots(figsize = (7,7))\n",
        "ax.scatter(torch.deg2rad(angles_all2), z_mean2[:,0], c = targets_all2, s =1, cmap = 'jet')"
      ],
      "metadata": {
        "id": "FUe_N5adIX3a"
      },
      "execution_count": null,
      "outputs": []
    },
    {
      "cell_type": "markdown",
      "source": [
        "## cards-iii\n",
        "High rotation (120 degrees) and Low shear (1 degree)"
      ],
      "metadata": {
        "id": "miQkMoxmIcze"
      }
    },
    {
      "cell_type": "code",
      "source": [
        "# First let's just visualize some randomly picked samples from the input dataset\n",
        "\n",
        "np.random.seed(1)  # fix seed so that we get the same samples displayed at every run\n",
        "fig, axes = plt.subplots(10, 10, figsize=(8, 8),\n",
        "                         subplot_kw={'xticks':[], 'yticks':[]},\n",
        "                         gridspec_kw=dict(hspace=0.1, wspace=0.1))\n",
        "\n",
        "for ax in axes.flat:\n",
        "    i = np.random.randint(len(cards_all3))\n",
        "    ax.imshow(cards_all3[i], cmap='gnuplot', interpolation='nearest')"
      ],
      "metadata": {
        "id": "_bF8a-bbIfws"
      },
      "execution_count": null,
      "outputs": []
    },
    {
      "cell_type": "code",
      "source": [
        "# Initializing a new network\n",
        "in_dim = (48,48)\n",
        "crvae3 = pv.models.iVAE(in_dim, latent_dim=2, c_dim = 4,\n",
        "                      hidden_dim_e = [256,256],\n",
        "                     hidden_dim_d = [256,256],\n",
        "                     invariances=['r'], seed=1)\n",
        "# Download the weigths file\n",
        "!gdown 1-FSNB55Wwo7T6qeh-gFjAdvjEUu38coq\n",
        "\n",
        "# Loading the saved weights into the newly initialized network\n",
        "crvae3.load_weights('crvae3.pt')"
      ],
      "metadata": {
        "id": "JaV9piJHIoxg"
      },
      "execution_count": null,
      "outputs": []
    },
    {
      "cell_type": "code",
      "source": [
        "# Decoded latent space:\n",
        "# The latent space is uniformly sampled in z1-z2 latent dimensions.\n",
        "# These points are decoded back into the image space and are plotted in their corresponding latent space positions\n",
        "# Since the latent space of crVAE is conditioned on the class label, we get one latent space for each class\n",
        "\n",
        "for cls in range(4):\n",
        "    cls = pv.utils.to_onehot(tt([cls,]), 4)\n",
        "    crvae3.manifold2d(d=9, y=cls, cmap=\"viridis\")"
      ],
      "metadata": {
        "id": "D4l829i6IueF"
      },
      "execution_count": null,
      "outputs": []
    },
    {
      "cell_type": "markdown",
      "source": [
        "Latent Distributions:  \n",
        "Input images are represented as points in the latent space using the encoder  \n",
        "These points are then colored with various ground-truth properties to visualize their distribution"
      ],
      "metadata": {
        "id": "XX6RgXe0kUGc"
      }
    },
    {
      "cell_type": "code",
      "source": [
        "targets_all3 = torch.argmax(labels_all3, dim = 1)   # Obtaining the classes from one-hot encoded vectors\n",
        "z_mean3, z_sd3 = crvae3.encode(cards_all3[:, None], labels_all3)   # Encoding the full input dataset\n",
        "# z_mean1: mean of the latent space representation of the input dataset,\n",
        "# z_sd1: standard deviation of the latent space representation of the input dataset,\n",
        "# 0th column corresponds to angle and then the regular latent dimensions (First invariant dimensions and then regular latent dimensions)\n",
        "\n",
        "\n",
        "# Latent distribution colored using the suit of each image\n",
        "fig, ax = plt.subplots(1, 1, figsize =(7, 6))\n",
        "im = ax.scatter(z_mean3[:,-1], z_mean3[:,-2], c=targets_all3, s=1, cmap='jet')\n",
        "ax.set_xlabel(\"$z_1$\", fontsize=14)\n",
        "ax.set_ylabel(\"$z_2$\", fontsize=14)\n",
        "cbar = fig.colorbar(im, ax=ax, shrink=.8)\n",
        "cbar.set_label(\"Label\", fontsize=14)\n",
        "cbar.ax.tick_params(labelsize=10)\n",
        "plt.show()\n",
        "# It should be noted that each suit (color) lives in an independent latent space from the other suits (colors)"
      ],
      "metadata": {
        "id": "5aLjWRZ6Izcu"
      },
      "execution_count": null,
      "outputs": []
    },
    {
      "cell_type": "markdown",
      "source": [
        "Since the latent space of each suit is independent, we plot the latent distributions in four different latent spaces corresponding to their suit"
      ],
      "metadata": {
        "id": "lYEkMNPclXID"
      }
    },
    {
      "cell_type": "code",
      "source": [
        "# Latent distribution colored using the ground-truth shear of each image\n",
        "fig, ax = plt.subplots(nrows = 2, ncols = 2, figsize = (7,7))\n",
        "\n",
        "inds = np.zeros([len(targets_all3), 4], dtype = bool)\n",
        "for i in range(4):\n",
        "    inds[:, i] = np.asarray(targets_all3 == i, dtype = bool)\n",
        "\n",
        "ax[0,0].scatter(z_mean3[inds[:,0], -1], z_mean3[inds[:,0],-2], c=shears_all3[inds[:,0],0], s=1, cmap='jet')\n",
        "ax[0,0].set_xlabel(\"$z_1$\", fontsize=14)\n",
        "ax[0,0].set_ylabel(\"$z_2$\", fontsize=14)\n",
        "\n",
        "ax[0,1].scatter(z_mean3[inds[:,1], -1], z_mean3[inds[:,1],-2], c=shears_all3[inds[:,1],0], s=1, cmap='jet')\n",
        "ax[0,1].set_xlabel(\"$z_1$\", fontsize=14)\n",
        "ax[0,1].set_ylabel(\"$z_2$\", fontsize=14)\n",
        "\n",
        "ax[1,0].scatter(z_mean3[inds[:,2], -1], z_mean3[inds[:,2],-2], c=shears_all3[inds[:,2],0], s=1, cmap='jet')\n",
        "ax[1,0].set_xlabel(\"$z_1$\", fontsize=14)\n",
        "ax[1,0].set_ylabel(\"$z_2$\", fontsize=14)\n",
        "\n",
        "ax[1,1].scatter(z_mean3[inds[:,3], -1], z_mean3[inds[:,3],-2], c=shears_all3[inds[:,3],0], s=1, cmap='jet')\n",
        "ax[1,1].set_xlabel(\"$z_1$\", fontsize=14)\n",
        "ax[1,1].set_ylabel(\"$z_2$\", fontsize=14)"
      ],
      "metadata": {
        "id": "YNocQ7d9I-Y6"
      },
      "execution_count": null,
      "outputs": []
    },
    {
      "cell_type": "code",
      "source": [
        "# Finally the plot of encoded angle vs. ground truth rotation applied to the images.\n",
        "# The points are colored using the suit of the images.\n",
        "\n",
        "fig, ax = plt.subplots(figsize = (7,7))\n",
        "ax.scatter(torch.deg2rad(angles_all3), z_mean3[:,0], c = targets_all3, s =25, cmap = 'jet')\n",
        "ax.set_xlabel(\"ground truth\", fontsize=14)\n",
        "ax.set_ylabel(\"angular encoding\", fontsize=14)"
      ],
      "metadata": {
        "id": "1WMRId91JSuh"
      },
      "execution_count": null,
      "outputs": []
    },
    {
      "cell_type": "markdown",
      "source": [
        "## cards-iv\n",
        "High rotation (120 degrees) and high shear (20 degrees)"
      ],
      "metadata": {
        "id": "jmdut772JWjG"
      }
    },
    {
      "cell_type": "code",
      "source": [
        "# First let's just visualize some randomly picked samples from the input dataset\n",
        "\n",
        "np.random.seed(1)  # fix seed so that we get the same samples displayed at every run\n",
        "fig, axes = plt.subplots(10, 10, figsize=(8, 8),\n",
        "                         subplot_kw={'xticks':[], 'yticks':[]},\n",
        "                         gridspec_kw=dict(hspace=0.1, wspace=0.1))\n",
        "\n",
        "for ax in axes.flat:\n",
        "    i = np.random.randint(len(cards_all4))\n",
        "    ax.imshow(cards_all4[i], cmap='gnuplot', interpolation='nearest')"
      ],
      "metadata": {
        "id": "SXGgHceOJbWj"
      },
      "execution_count": null,
      "outputs": []
    },
    {
      "cell_type": "code",
      "source": [
        "# Initializing a new network\n",
        "in_dim = (48,48)\n",
        "crvae4 = pv.models.iVAE(in_dim, latent_dim=2, c_dim = 4,\n",
        "                      hidden_dim_e = [256,256],\n",
        "                     hidden_dim_d = [256,256],\n",
        "                     invariances=['r'], seed=1)\n",
        "\n",
        "# Download the weigths file\n",
        "!gdown 1-LeIFSUxBWRgUZMgCnrlaDW8fqlkN_E6\n",
        "\n",
        "# Loading the saved weights into the newly initialized network\n",
        "crvae4.load_weights('crvae4.pt')"
      ],
      "metadata": {
        "id": "Ga3e8-_eJiNC"
      },
      "execution_count": null,
      "outputs": []
    },
    {
      "cell_type": "code",
      "source": [
        "# Decoded latent space:\n",
        "# The latent space is uniformly sampled in z1-z2 latent dimensions.\n",
        "# These points are decoded back into the image space and are plotted in their corresponding latent space positions\n",
        "# Since the latent space of crVAE is conditioned on the class label, we get one latent space for each class\n",
        "\n",
        "for cls in range(4):\n",
        "    cls = pv.utils.to_onehot(tt([cls,]), 4)\n",
        "    crvae4.manifold2d(d=9, y=cls, cmap=\"viridis\")   # d corresponds to the number of points sampled in each latent dimension"
      ],
      "metadata": {
        "id": "5Ma4eknvJnNg"
      },
      "execution_count": null,
      "outputs": []
    },
    {
      "cell_type": "markdown",
      "source": [
        "Latent Distributions:  \n",
        "Input images are represented as points in the latent space using the encoder  \n",
        "These points are then colored with various ground-truth properties to visualize their distribution"
      ],
      "metadata": {
        "id": "_vdp61SAkWB2"
      }
    },
    {
      "cell_type": "code",
      "source": [
        "targets_all4 = torch.argmax(labels_all4, dim = 1)   # Obtaining the classes from one-hot encoded vectors\n",
        "z_mean4, z_sd4 = crvae4.encode(cards_all4[:, None], labels_all4)   # Encoding the full input dataset\n",
        "# z_mean1: mean of the latent space representation of the input dataset,\n",
        "# z_sd1: standard deviation of the latent space representation of the input dataset,\n",
        "# 0th column corresponds to angle and then the regular latent dimensions (First invariant dimensions and then regular latent dimensions)\n",
        "\n",
        "\n",
        "# Latent distribution colored using the suit of each image\n",
        "fig, ax = plt.subplots(1, 1, figsize =(5, 5))\n",
        "im = ax.scatter(z_mean4[:,-1], z_mean4[:,-2], c=targets_all4, s=10, cmap='jet')\n",
        "ax.set_xlabel(\"$z_1$\", fontsize=14)\n",
        "ax.set_ylabel(\"$z_2$\", fontsize=14)\n",
        "cbar = fig.colorbar(im, ax=ax, shrink=.8)\n",
        "cbar.set_label(\"Label\", fontsize=14)\n",
        "cbar.ax.tick_params(labelsize=10)\n",
        "\n",
        "# plt.savefig('crvae_case4_latent_dis.png', dpi = 300)\n",
        "plt.show()\n",
        "\n",
        "# It should be noted that each suit (color) lives in an independent latent space from the other suits (colors)"
      ],
      "metadata": {
        "id": "yiugheEbJrce"
      },
      "execution_count": null,
      "outputs": []
    },
    {
      "cell_type": "markdown",
      "source": [
        "Since the latent space of each suit is independent, we plot the latent distributions in four different latent spaces corresponding to their suit"
      ],
      "metadata": {
        "id": "dFw2-kVMlbLM"
      }
    },
    {
      "cell_type": "code",
      "source": [
        "# Latent distribution colored using the ground truth shear of each image\n",
        "fig, ax = plt.subplots(nrows = 2, ncols = 2, figsize = (7,7))\n",
        "\n",
        "inds = np.zeros([len(targets_all4), 4], dtype = bool)\n",
        "for i in range(4):\n",
        "    inds[:, i] = np.asarray(targets_all4 == i, dtype = bool)\n",
        "\n",
        "ax[0,0].scatter(z_mean4[inds[:,0], -1], z_mean4[inds[:,0],-2], c=shears_all4[inds[:,0],0], s=1, cmap='jet')\n",
        "ax[0,0].set_xlabel(\"$z_1$\", fontsize=14)\n",
        "ax[0,0].set_ylabel(\"$z_2$\", fontsize=14)\n",
        "\n",
        "ax[0,1].scatter(z_mean4[inds[:,1], -1], z_mean4[inds[:,1],-2], c=shears_all4[inds[:,1],0], s=1, cmap='jet')\n",
        "ax[0,1].set_xlabel(\"$z_1$\", fontsize=14)\n",
        "ax[0,1].set_ylabel(\"$z_2$\", fontsize=14)\n",
        "\n",
        "ax[1,0].scatter(z_mean4[inds[:,2], -1], z_mean4[inds[:,2],-2], c=shears_all4[inds[:,2],0], s=1, cmap='jet')\n",
        "ax[1,0].set_xlabel(\"$z_1$\", fontsize=14)\n",
        "ax[1,0].set_ylabel(\"$z_2$\", fontsize=14)\n",
        "\n",
        "ax[1,1].scatter(z_mean4[inds[:,3], -1], z_mean4[inds[:,3],-2], c=shears_all4[inds[:,3],0], s=1, cmap='jet')\n",
        "ax[1,1].set_xlabel(\"$z_1$\", fontsize=14)\n",
        "ax[1,1].set_ylabel(\"$z_2$\", fontsize=14)"
      ],
      "metadata": {
        "id": "xgD2KdDRJ1Sl"
      },
      "execution_count": null,
      "outputs": []
    },
    {
      "cell_type": "code",
      "source": [
        "# Finally the plot of encoded angle vs. ground truth rotation applied to the images.\n",
        "# The points are colored using the suit of the images.\n",
        "\n",
        "fig, ax = plt.subplots(figsize = (5,5))\n",
        "ax.scatter(torch.deg2rad(angles_all4), z_mean4[:,0], c = targets_all4, s =25, cmap = 'jet')\n",
        "ax.set_xlabel(\"ground truth\", fontsize=14)\n",
        "ax.set_ylabel(\"angular encoding\", fontsize=14)\n",
        "# plt.savefig('crvae_case4_angle_plot.png', dpi = 300)"
      ],
      "metadata": {
        "id": "IkkgEaqYKFOs"
      },
      "execution_count": null,
      "outputs": []
    }
  ]
}