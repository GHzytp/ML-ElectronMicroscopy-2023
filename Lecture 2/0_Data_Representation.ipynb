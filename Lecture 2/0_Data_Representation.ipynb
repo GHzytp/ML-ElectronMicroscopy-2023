{
 "cells": [
  {
   "cell_type": "markdown",
   "metadata": {},
   "source": [
    "<font size = \"5\"> **Lecture 2:  [Information in STEM](https://github.com/gduscher/ML-ElectronMicroscopy-2023/tree/main/Lecture%202)** </font>\n",
    "\n",
    "\n",
    "<hr style=\"height:1px;border-top:4px solid #FF8200\" />\n",
    "\n",
    "# Matplotlib and Numpy for Micrographs\n",
    "\n",
    "\n",
    "[<img src=https://www.coeuscreativegroup.com/wp-content/uploads/2020/04/download-button.png, width=125>](https://github.com/SergeiVKalinin/ML-ElectronMicroscopy-2023/raw/main/Lecture%202/0_Data_Representation.ipynb) \n",
    "\n",
    "[![OpenInColab](https://colab.research.google.com/assets/colab-badge.svg)](https://colab.research.google.com/github/SergeiVKalinin/ML-ElectronMicroscopy-2023/blob/main/Lecture%202/0_Data_Representation.ipynb)\n",
    "\n",
    "part of Online Course\n",
    "\n",
    "<font size = \"5\"> **[Machine Learning in Scanning Electron Microscopy 2023](https://github.com/SergeiVKalinin/ML-ElectronMicroscopy-2023)**</font>\n",
    "\n",
    "<font size = \"3\"> **[Lecture 2](https://github.com/gduscher/ML-ElectronMicroscopy-2023/tree/main/Lecture%202)**</font>\n",
    "\n",
    "by Gerd Duscher, 2023\n",
    "\n",
    "Microscopy Facilities<br>\n",
    "Institute of Advanced Materials & Manufacturing<br>\n",
    "The University of Tennessee, Knoxville\n",
    "\n",
    "\n",
    "\n"
   ]
  },
  {
   "cell_type": "markdown",
   "metadata": {},
   "source": [
    "***\n",
    "\n",
    "## Content \n",
    "\n",
    "Almost all notebooks of this lecture series rely on two core python-packages: [numpy](https://numpy.org/) and [matplotlib](https://matplotlib.org/)\n",
    "\n",
    "However,  ``numpy`` and ``matplot`` are a bit confusing of how they are dealing with images from microscopes.\n",
    "\n",
    "The reason for these problems is that matplotlib is an image **and** a line plotting routine, and those routines are using different conventions of the plotting axis.\n",
    "\n",
    "The behaviour of these two packages will be explored in this notebook, and the differences of between [numpy](https://numpy.org/) and [matplotlib](https://matplotlib.org/) have direct impact on how we deal with data, how we store them, and how easily we can use other packages for data analysis.\n",
    "\n",
    "***\n",
    "\n",
    "There is only one command necessary to load the functionality of both packages (numpy and matplotlib) which is done in the code cell below. Every notebook in this series will start with that line."
   ]
  },
  {
   "cell_type": "code",
   "execution_count": 1,
   "metadata": {},
   "outputs": [],
   "source": [
    "%matplotlib inline\n",
    "import matplotlib.pylab as plt\n",
    "import numpy as np"
   ]
  },
  {
   "cell_type": "markdown",
   "metadata": {},
   "source": [
    "## The Problem\n",
    "\n",
    "An image is stored as a matrix where each element of the matrix is the intensity level of the pixel.\n",
    "\n",
    "An empty image can easily be made with numpy (``np.zeros`` function)"
   ]
  },
  {
   "cell_type": "code",
   "execution_count": 2,
   "metadata": {},
   "outputs": [
    {
     "name": "stdout",
     "output_type": "stream",
     "text": [
      "[[0. 1. 0. 1.]\n",
      " [1. 0. 1. 0.]\n",
      " [0. 1. 0. 1.]\n",
      " [1. 0. 1. 0.]\n",
      " [0. 1. 0. 1.]\n",
      " [1. 0. 1. 0.]\n",
      " [0. 1. 0. 1.]\n",
      " [1. 0. 1. 0.]]\n"
     ]
    }
   ],
   "source": [
    "image = np.zeros((8,4))\n",
    "\n",
    "#make checkerboard (you can ignore how this is done exactly, the result is important)\n",
    "image[::2, 1::2] = 1\n",
    "image[1::2, ::2] = 1\n",
    "print(image)"
   ]
  },
  {
   "cell_type": "markdown",
   "metadata": {},
   "source": [
    "Looks ok.\n",
    "\n",
    "Let's plot this boring image."
   ]
  },
  {
   "cell_type": "code",
   "execution_count": 3,
   "metadata": {},
   "outputs": [
    {
     "data": {
      "image/png": "[encoded data removed]",
      "text/plain": [
       "<Figure size 300x300 with 1 Axes>"
      ]
     },
     "metadata": {},
     "output_type": "display_data"
    }
   ],
   "source": [
    "plt.figure(figsize = (3,3))\n",
    "plt.imshow(image, cmap = plt.cm.gray);"
   ]
  },
  {
   "cell_type": "markdown",
   "metadata": {},
   "source": [
    "While you probably did not have a problem with the matrix representation of our boring image, you should have one now, because the x-axis was the longer one.\n",
    "\n",
    "The problem comes from the different way data can be stored.\n",
    "\n",
    "## Data Storage Conventions\n",
    "\n",
    "In microscopy, we are used to first go right and then down, like you read a text in English. This may originate in the fact that images from scanning microscopes start at top left, go horizontally first and then down line by line.\n",
    "\n",
    "So our perception requires the first index to be horizontally (the column index to be first) and the row index to be the second.\n",
    "\n",
    "In mathematics, a matrix index starts with a row index and column indices are second. Exactly opposite to what we are used in microscopy.\n",
    "\n",
    "\n",
    "$\n",
    "\\begin{bmatrix}\n",
    "    x_{11} & x_{12} & x_{13} & \\dots  & x_{1n} \\\\\n",
    "    x_{21} & x_{22} & x_{23} & \\dots  & x_{2n} \\\\\n",
    "    \\vdots & \\vdots & \\vdots & \\ddots & \\vdots \\\\\n",
    "    x_{d1} & x_{d2} & x_{d3} & \\dots  & x_{dn}\n",
    "\\end{bmatrix}\n",
    "$\n",
    "\n",
    "So we now have to choose, what kind of internal representation we use. And we need to consider what kind of internal representation the used python-packages choose. You will notice that most examples on the internet get around this problem by using square matrices and images, which leads sometimes to errors in non-square data, and leads often to subtle problems in image analysis.\n",
    "\n",
    "As we see numpy uses the mathematical convention and most popular packages are compatible with numpy and use the same convention. If we chose to internally stay with the fast direction as row in the numpy array, it gets confusing with switching x and y directions constantly. Therefore, ``pyTEMlib``, ``pycroscopy``, and ``pyNSID`` are using the storage method of slow axis first storage convention.\n",
    "\n",
    "In other words, in the notebooks of this course, we will rotate output and stay with mathematics indexing internally. This makes the computation consistent with all numpy based packages and there are many. The [scipy](https://www.scipy.org/), [scikit-image](https://scikit-image.org/), and [scikit-learn](https://scikit-learn.org/stable/) are the most used (collection of) packages used in this notebook-lecture series. We stay  very ``pythonic`` with this convention.\n",
    "\n",
    "*Turning* the image can be accomplished by a ``.T`` command of numpy arrays, which is the transposed of a matrix $M^T$. Please note, that numpy is smart enough to leave the stored data alone and just change the way the data are read (look up strides and numpy  for more information)."
   ]
  },
  {
   "cell_type": "code",
   "execution_count": 4,
   "metadata": {},
   "outputs": [
    {
     "name": "stdout",
     "output_type": "stream",
     "text": [
      "(8, 4)\n"
     ]
    },
    {
     "data": {
      "image/png": "[encoded data removed]",
      "text/plain": [
       "<Figure size 640x480 with 1 Axes>"
      ]
     },
     "metadata": {},
     "output_type": "display_data"
    }
   ],
   "source": [
    "print(image.shape)\n",
    "plt.figure()\n",
    "plt.imshow(image.T, cmap = plt.cm.gray);"
   ]
  },
  {
   "cell_type": "markdown",
   "metadata": {},
   "source": [
    "## Using the ``Pythonic`` Convention\n",
    "\n",
    "This convention chosen allows us to address the image content naturally, here we select the pixel at x-axis 4 and y-axis 1\n",
    "\n",
    "In the example below, also a line is plotted which needs the ``x`` coordinates first and the ``y`` coordinates (as a list ``[ ... ]`` or numpy ``array``).\n",
    "\n",
    "The same coordinates are used  to put markers in the image."
   ]
  },
  {
   "cell_type": "code",
   "execution_count": 5,
   "metadata": {},
   "outputs": [
    {
     "data": {
      "image/png": "[encoded data removed]",
      "text/plain": [
       "<Figure size 640x480 with 1 Axes>"
      ]
     },
     "metadata": {},
     "output_type": "display_data"
    }
   ],
   "source": [
    "image[4,1] = 2\n",
    "\n",
    "plt.figure()\n",
    "plt.imshow(image.T, cmap = plt.cm.gray)\n",
    "plt.plot([0,4],[0,1], color='orange')\n",
    "plt.scatter([0,4],[0,1],color='blue');"
   ]
  },
  {
   "cell_type": "markdown",
   "metadata": {},
   "source": [
    "## Adding a Scale\n",
    "\n",
    "Adding a scale to the image is accomplished by setting the extent parameters in matplotlib. \n",
    "\n",
    "### Relative Scale\n",
    "Generally, it is recommended to use the field of view (length of axis times pixel-size in that direction) as the extent and the starting point is zero. \n",
    "\n",
    "The difference to most online code is that we set the field of view (FOV) of the y-axis first, to start the top left at 0 as it is custom in microscopy.\n",
    "\n",
    "The pixel size is accurate in that way. Addressing and plotting other parameters on top of the image will be in the scale expressed with the extent parameters.\n",
    "\n",
    "However, that there is a slight problem with the origin and the coordinate reference of a pixel, which will be discussed in the next subsection.\n"
   ]
  },
  {
   "cell_type": "code",
   "execution_count": 6,
   "metadata": {},
   "outputs": [
    {
     "data": {
      "text/plain": [
       "array([[0., 1., 0., 1., 0., 1., 0., 1.],\n",
       "       [1., 0., 1., 0., 2., 0., 1., 0.],\n",
       "       [0., 1., 0., 1., 0., 1., 0., 1.],\n",
       "       [1., 0., 1., 0., 1., 0., 1., 0.]])"
      ]
     },
     "execution_count": 6,
     "metadata": {},
     "output_type": "execute_result"
    }
   ],
   "source": [
    "image.T"
   ]
  },
  {
   "cell_type": "code",
   "execution_count": 7,
   "metadata": {},
   "outputs": [
    {
     "data": {
      "image/png": "[encoded data removed]",
      "text/plain": [
       "<Figure size 640x480 with 1 Axes>"
      ]
     },
     "metadata": {},
     "output_type": "display_data"
    }
   ],
   "source": [
    "image[4,1] = 1\n",
    "\n",
    "scale_x = scale_y = 10\n",
    "FOV_x = image.shape[0]* scale_x\n",
    "FOV_y = image.shape[1]* scale_y\n",
    "image_extent = [0,FOV_x,FOV_y, 0]\n",
    "\n",
    "plt.figure()\n",
    "plt.imshow(image.T, extent = image_extent, cmap = plt.cm.gray)\n",
    "\n",
    "plt.plot(np.array([0,4])*scale_x, np.array([0,1])*scale_y, color='orange')\n",
    "## while above coordinates are translated from pixel, next we use directly image coordinates\n",
    "plt.scatter([0,40],[0,10],color='blue');"
   ]
  },
  {
   "cell_type": "markdown",
   "metadata": {},
   "source": [
    "### Correct Absolute Scale\n",
    "\n",
    "We can see that in the image above the relative scale, which means the size of the pixel, is accurate and the y-axis is numbered as we are used to. \n",
    "\n",
    "Plotting a line  from pixel [0,0] to pixel [4,1] however reveals that the origin of the pixels moved from the center to the top left corner. \n",
    "\n",
    "This is usually not a problem however it can lead to problems in plotting of parameters with subpixel accuracy, where the origin of the matrix pixel is regarded ``at the center``.\n",
    "\n",
    "The correct scale needs to be shifted by half a pixel:\n"
   ]
  },
  {
   "cell_type": "code",
   "execution_count": 8,
   "metadata": {},
   "outputs": [
    {
     "data": {
      "image/png": "[encoded data removed]",
      "text/plain": [
       "<Figure size 640x480 with 1 Axes>"
      ]
     },
     "metadata": {},
     "output_type": "display_data"
    }
   ],
   "source": [
    "image[4,1] = 1\n",
    "\n",
    "scale_x = scale_y = 10\n",
    "FOV_x = image.shape[0]* scale_x\n",
    "FOV_y = image.shape[1]* scale_y\n",
    "\n",
    "## Set correct image extent\n",
    "image_extent = (np.array([0,image.shape[0],image.shape[1], 0])-0.5)*(scale_x,scale_x,scale_y,scale_y)\n",
    "\n",
    "plt.figure()\n",
    "plt.imshow(image.T, extent = image_extent, cmap = plt.cm.gray)\n",
    "\n",
    "plt.plot(np.array([0,4])*scale_x, np.array([0,1])*scale_y, color='orange')\n",
    "## while above coordinates are translated from pixel here we use directly image coordinates\n",
    "plt.scatter([0,40],[0,10],color='blue'); "
   ]
  },
  {
   "cell_type": "markdown",
   "metadata": {},
   "source": [
    "## Summary\n",
    "\n",
    "So internally we use the mathematical convention of matrices and all we have to take care of is that the output plot of the image is the right kind around. \n",
    "\n",
    "For absolute pixel positions we need to shift the ``grid`` by half a pixel to keep the pixel origin in the center of the pixels.\n",
    "\n",
    "The advantage of this approach is that no other effort has to be spent to keep track on what axis is where, which can get cumbersome in multidimensional datasets."
   ]
  },
  {
   "cell_type": "markdown",
   "metadata": {},
   "source": [
    "## Navigation\n",
    "- <font size = \"3\">  **Back  [Installation and Prerequisites](CH1_02-Prerequisites.ipynb))** </font>\n",
    "- <font size = \"3\">  **Next: [Open a (DM) file ](CH1_04-Open_File.ipynb)** </font>\n",
    "- <font size = \"3\">  **Chapter 1: [Introduction](CH1_00-Introduction.ipynb)** </font>\n",
    "- <font size = \"3\">  **List of Content: [Front](../_MSE672_Intro_TEM.ipynb)** </font>\n"
   ]
  },
  {
   "cell_type": "code",
   "execution_count": null,
   "metadata": {},
   "outputs": [],
   "source": []
  }
 ],
 "metadata": {
  "kernelspec": {
   "display_name": "Python 3 (ipykernel)",
   "language": "python",
   "name": "python3"
  },
  "language_info": {
   "codemirror_mode": {
    "name": "ipython",
    "version": 3
   },
   "file_extension": ".py",
   "mimetype": "text/x-python",
   "name": "python",
   "nbconvert_exporter": "python",
   "pygments_lexer": "ipython3",
   "version": "3.11.3"
  },
  "toc": {
   "base_numbering": "4",
   "nav_menu": {},
   "number_sections": true,
   "sideBar": true,
   "skip_h1_title": false,
   "title_cell": "Table of Contents",
   "title_sidebar": "Contents",
   "toc_cell": false,
   "toc_position": {},
   "toc_section_display": true,
   "toc_window_display": true
  },
  "varInspector": {
   "cols": {
    "lenName": 16,
    "lenType": 16,
    "lenVar": 40
   },
   "kernels_config": {
    "python": {
     "delete_cmd_postfix": "",
     "delete_cmd_prefix": "del ",
     "library": "var_list.py",
     "varRefreshCmd": "print(var_dic_list())"
    },
    "r": {
     "delete_cmd_postfix": ") ",
     "delete_cmd_prefix": "rm(",
     "library": "var_list.r",
     "varRefreshCmd": "cat(var_dic_list()) "
    }
   },
   "types_to_exclude": [
    "module",
    "function",
    "builtin_function_or_method",
    "instance",
    "_Feature"
   ],
   "window_display": true
  },
  "vscode": {
   "interpreter": {
    "hash": "838e0debddb5b6f29d3d8c39ba50ae8c51920a564d3bac000e89375a158a81de"
   }
  }
 },
 "nbformat": 4,
 "nbformat_minor": 4
}
