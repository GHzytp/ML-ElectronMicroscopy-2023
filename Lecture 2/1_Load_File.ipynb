{
 "cells": [
  {
   "cell_type": "markdown",
   "metadata": {
    "hideCode": true,
    "hidePrompt": true
   },
   "source": [
    "<font size = \"5\"> **Lecture 2:  [Information in STEM](https://github.com/gduscher/ML-ElectronMicroscopy-2023/tree/main/Lecture%202)** </font>\n",
    "\n",
    "\n",
    "<hr style=\"height:1px;border-top:4px solid #FF8200\" />\n",
    "\n",
    "# Load a File\n",
    "\n",
    "\n",
    "[<img src=https://www.coeuscreativegroup.com/wp-content/uploads/2020/04/download-button.png, width=125>](https://github.com/SergeiVKalinin/ML-ElectronMicroscopy-2023/raw/main/Lecture%202/1_Load_File.ipynb) \n",
    "\n",
    "[![OpenInColab](https://colab.research.google.com/assets/colab-badge.svg)](https://colab.research.google.com/github/SergeiVKalinin/ML-ElectronMicroscopy-2023/blob/main/Lecture%202/1_Load_File.ipynb)\n",
    "\n",
    "part of Online Course\n",
    "\n",
    "<font size = \"5\"> **[Machine Learning in Scanning Electron Microscopy 2023](https://github.com/SergeiVKalinin/ML-ElectronMicroscopy-2023)**</font>\n",
    "\n",
    "<font size = \"3\"> **[Lecture 2](https://github.com/gduscher/ML-ElectronMicroscopy-2023/tree/main/Lecture%202)**</font>\n",
    "\n",
    "by Gerd Duscher, 2023\n",
    "\n",
    "Microscopy Facilities<br>\n",
    "Institute of Advanced Materials & Manufacturing<br>\n",
    "The University of Tennessee, Knoxville"
   ]
  },
  {
   "cell_type": "markdown",
   "metadata": {},
   "source": [
    "\n",
    "\n",
    "\n",
    "## Content\n",
    "\n",
    "Short test to verify that files can be loaded.\n",
    "\n",
    "This notebook uses an ipywidget to select a file.\n",
    "\n",
    "We also test how to review a variety of ways how to upload files to google colab.\n",
    "\n",
    "## Prerequesites\n",
    "\n",
    "### Install packages\n",
    "\n",
    "If you run this in Google Colab or if you want to test your local installation \"run the code cell below\" to ensure that [pyTEMlib](https://github.com/gduscher/pyTEMlib) and dependent packages are installed.\n",
    "\n"
   ]
  },
  {
   "cell_type": "code",
   "execution_count": null,
   "metadata": {
    "tags": []
   },
   "outputs": [],
   "source": [
    "import sys\n",
    "\n",
    "from pkg_resources import get_distribution, DistributionNotFound\n",
    "\n",
    "def test_package(package_name):\n",
    "    \"\"\"Test if package exists and returns version or -1\"\"\"\n",
    "    try:\n",
    "        version = (get_distribution(package_name).version)\n",
    "    except (DistributionNotFound, ImportError) as err:\n",
    "        version = '-1'\n",
    "    return version\n",
    "\n",
    "\n",
    "# pyTEMlib setup ------------------\n",
    "if test_package('pyTEMlib') < '0.2023.5.0':\n",
    "    print('installing pyTEMlib')\n",
    "    !{sys.executable} -m pip install git+https://github.com/pycroscopy/sidpy.git@main -q\n",
    "    !{sys.executable} -m pip install git+https://github.com/pycroscopy/SciFiReaders.git@main -q\n",
    "    !{sys.executable} -m pip install git+https://github.com/pycroscopy/pyTEMlib.git@use_dict_2 -q\n",
    "    \n",
    "# ------------------------------\n",
    "print('done')"
   ]
  },
  {
   "cell_type": "markdown",
   "metadata": {
    "hideCode": false,
    "hidePrompt": false
   },
   "source": [
    "### Then we import the relevant packages\n",
    "We will use a few packages of the pycroscopy ecosystem. \n",
    "\n",
    "Most obvious the file_tools of pyTEMlib. \n",
    "\n",
    "That package is based on \n",
    "- sidpy for data format in memory\n",
    "- SciFiReaders for reading any file into a sidpy dataset\n",
    "- pyNSID for storing data\n",
    "\n",
    "A comprehensive overview will be provided in another lecture. "
   ]
  },
  {
   "cell_type": "code",
   "execution_count": 1,
   "metadata": {
    "hideCode": true,
    "hidePrompt": false,
    "tags": []
   },
   "outputs": [
    {
     "name": "stdout",
     "output_type": "stream",
     "text": [
      "You don't have igor2 installed.     If you wish to open igor files, you will need to install it     (pip install igor2) before attempting.\n",
      "You don't have gwyfile installed.     If you wish to open .gwy files, you will need to      install it (pip install gwyfile) before attempting.\n",
      "Symmetry functions of spglib enabled\n",
      "Qt dialogs are not available\n",
      "pyTEMlib version:  0.2023.5.2\n"
     ]
    }
   ],
   "source": [
    "%matplotlib ipympl\n",
    "import numpy as np\n",
    "import matplotlib.pylab as plt \n",
    "\n",
    "import sys\n",
    "if 'google.colab' in sys.modules:\n",
    "    from google.colab import output\n",
    "    output.enable_custom_widget_manager()\n",
    "    from google.colab import drive\n",
    "\n",
    "import pyTEMlib\n",
    "from pyTEMlib import file_tools     # File input/ output library\n",
    "\n",
    "# For archiving reasons it is a good idea to print the version numbers out at this point\n",
    "print('pyTEMlib version: ', pyTEMlib.__version__)\n",
    "    \n",
    "__notebook__ = 'analyze_core_loss'\n",
    "__notebook_version__ = '2023_05_25'"
   ]
  },
  {
   "cell_type": "markdown",
   "metadata": {},
   "source": [
    "### Upload some File to Colab\n",
    "Please note that this will not work under Microscoft Windows."
   ]
  },
  {
   "cell_type": "code",
   "execution_count": 4,
   "metadata": {},
   "outputs": [
    {
     "ename": "SyntaxError",
     "evalue": "incomplete input (2679881846.py, line 3)",
     "output_type": "error",
     "traceback": [
      "\u001b[1;36m  Cell \u001b[1;32mIn[4], line 3\u001b[1;36m\u001b[0m\n\u001b[1;33m    get_ipython().system('wget -P example_data/ https://github.com/pycroscopy/SciFiDatasets/raw/main/data/microscopy/em/tem/DMReader_SpectrumImage_SI-EELS.dm3')\u001b[0m\n\u001b[1;37m                                                                                                                                                                ^\u001b[0m\n\u001b[1;31mSyntaxError\u001b[0m\u001b[1;31m:\u001b[0m incomplete input\n"
     ]
    }
   ],
   "source": [
    "!wget -P example_data/ https://github.com/SergeiVKalinin/ML-ElectronMicroscopy-2023/raw/main/example_data/EELS_STO.dm3\n",
    "!wget -P example_data/ https://github.com/SergeiVKalinin/ML-ElectronMicroscopy-2023/raw/main/example_data/AL-DFoffset0.00.dm3\n",
    "!wget -P example_data/ https://github.com/SergeiVKalinin/ML-ElectronMicroscopy-2023/raw/main/example_data/p1-hr3-ZnOonGraphite.dm3\n",
    "!wget -P example_data/ https://github.com/SergeiVKalinin/ML-ElectronMicroscopy-2023/raw/main/example_data/p1-hr4-ZnOonGraphite.dm3\n",
    "!wget -P example_data/ https://github.com/SergeiVKalinin/ML-ElectronMicroscopy-2023/raw/main/example_data/SrTiO3%20EELS%20low%20loss%20spectra.dm3\n",
    "!wget -P example_data/ https://github.com/SergeiVKalinin/ML-ElectronMicroscopy-2023/raw/main/example_data/SrTiO3collection-60muem.dm3\n",
    "!wget -P example_data/ https://github.com/SergeiVKalinin/ML-ElectronMicroscopy-2023/raw/main/example_data/SrTiO3%20EELS%20Ti%20and%20O%20spectra%2060mu%201s%200.2%20disp.dm3\n",
    "!wget -P example_data/ https://github.com/SergeiVKalinin/ML-ElectronMicroscopy-2023/raw/main/example_data/STO-stack.h5"
   ]
  },
  {
   "cell_type": "code",
   "execution_count": 2,
   "metadata": {},
   "outputs": [],
   "source": [
    "%load_ext autoreload\n",
    "%autoreload 2\n",
    "\n",
    "sys.path.insert(0, '../../pyTEMlib')"
   ]
  },
  {
   "cell_type": "markdown",
   "metadata": {},
   "source": [
    "## Load and plot any file\n",
    "\n",
    "First a widget to select a file will apear.\n",
    "\n",
    "Go to the relevant path and select a file (Nion-file names will be translated) as ''Main''.<br>\n",
    "You can add any amount datasets with the add button. \n",
    "\n",
    "We use the SciFiReaders package of pycrosopy to read them.\n",
    "\n",
    "The data of the file will be plotted in the next code cell"
   ]
  },
  {
   "cell_type": "code",
   "execution_count": 3,
   "metadata": {
    "tags": []
   },
   "outputs": [
    {
     "data": {
      "application/vnd.jupyter.widget-view+json": {
       "model_id": "7c529084de5f40c5a5df80cc7096573e",
       "version_major": 2,
       "version_minor": 0
      },
      "text/plain": [
       "VBox(children=(Dropdown(description='directory:', layout=Layout(width='90%'), options=('C:\\\\Users\\\\gduscher\\\\D…"
      ]
     },
     "metadata": {},
     "output_type": "display_data"
    }
   ],
   "source": [
    "fileWidget = file_tools.FileWidget()"
   ]
  },
  {
   "cell_type": "markdown",
   "metadata": {},
   "source": [
    "Selected dataset will be plotted. make sure to play around with the drop down menu above."
   ]
  },
  {
   "cell_type": "code",
   "execution_count": 6,
   "metadata": {
    "tags": []
   },
   "outputs": [
    {
     "data": {
      "application/vnd.jupyter.widget-view+json": {
       "model_id": "1261f6f1c1884f4a8c112098a2e67878",
       "version_major": 2,
       "version_minor": 0
      },
      "image/png": "[encoded data removed]",
      "text/html": [
       "\n",
       "            <div style=\"display: inline-block;\">\n",
       "                <div class=\"jupyter-widgets widget-label\" style=\"text-align: center;\">\n",
       "                    Figure\n",
       "                </div>\n",
       "                <img src='data:image/png;base64,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' width=640.0/>\n",
       "            </div>\n",
       "        "
      ],
      "text/plain": [
       "Canvas(toolbar=Toolbar(toolitems=[('Home', 'Reset original view', 'home', 'home'), ('Back', 'Back to previous …"
      ]
     },
     "metadata": {},
     "output_type": "display_data"
    }
   ],
   "source": [
    "datasets = fileWidget.datasets\n",
    "\n",
    "dataset = fileWidget.selected_dataset\n",
    "\n",
    "view = dataset.plot()"
   ]
  },
  {
   "cell_type": "code",
   "execution_count": 14,
   "metadata": {},
   "outputs": [
    {
     "name": "stdout",
     "output_type": "stream",
     "text": [
      "sidpy.Dataset of type IMAGE_STACK with:\n",
      " dask.array<array, shape=(25, 512, 512), dtype=float32, chunksize=(25, 512, 512), chunktype=numpy.ndarray>\n",
      " data contains: intensity (counts)\n",
      " and Dimensions: \n",
      "frame:  stack (frame) of size (25,)\n",
      "y:  distance (nm) of size (512,)\n",
      "x:  distance (nm) of size (512,)\n",
      " with metadata: ['experiment', 'filename']\n"
     ]
    },
    {
     "data": {
      "text/html": [
       "<table>\n",
       "    <tr>\n",
       "        <td>\n",
       "            <table style=\"border-collapse: collapse;\">\n",
       "                <thead>\n",
       "                    <tr>\n",
       "                        <td> </td>\n",
       "                        <th> Array </th>\n",
       "                        <th> Chunk </th>\n",
       "                    </tr>\n",
       "                </thead>\n",
       "                <tbody>\n",
       "                    \n",
       "                    <tr>\n",
       "                        <th> Bytes </th>\n",
       "                        <td> 25.00 MiB </td>\n",
       "                        <td> 25.00 MiB </td>\n",
       "                    </tr>\n",
       "                    \n",
       "                    <tr>\n",
       "                        <th> Shape </th>\n",
       "                        <td> (25, 512, 512) </td>\n",
       "                        <td> (25, 512, 512) </td>\n",
       "                    </tr>\n",
       "                    <tr>\n",
       "                        <th> Dask graph </th>\n",
       "                        <td colspan=\"2\"> 1 chunks in 1 graph layer </td>\n",
       "                    </tr>\n",
       "                    <tr>\n",
       "                        <th> Data type </th>\n",
       "                        <td colspan=\"2\"> float32 numpy.ndarray </td>\n",
       "                    </tr>\n",
       "                </tbody>\n",
       "            </table>\n",
       "        </td>\n",
       "        <td>\n",
       "        <svg width=\"200\" height=\"190\" style=\"stroke:rgb(0,0,0);stroke-width:1\" >\n",
       "\n",
       "  <!-- Horizontal lines -->\n",
       "  <line x1=\"10\" y1=\"0\" x2=\"30\" y2=\"20\" style=\"stroke-width:2\" />\n",
       "  <line x1=\"10\" y1=\"120\" x2=\"30\" y2=\"140\" style=\"stroke-width:2\" />\n",
       "\n",
       "  <!-- Vertical lines -->\n",
       "  <line x1=\"10\" y1=\"0\" x2=\"10\" y2=\"120\" style=\"stroke-width:2\" />\n",
       "  <line x1=\"30\" y1=\"20\" x2=\"30\" y2=\"140\" style=\"stroke-width:2\" />\n",
       "\n",
       "  <!-- Colored Rectangle -->\n",
       "  <polygon points=\"10.0,0.0 30.20926774447448,20.20926774447448 30.20926774447448,140.2092677444745 10.0,120.0\" style=\"fill:#ECB172A0;stroke-width:0\"/>\n",
       "\n",
       "  <!-- Horizontal lines -->\n",
       "  <line x1=\"10\" y1=\"0\" x2=\"130\" y2=\"0\" style=\"stroke-width:2\" />\n",
       "  <line x1=\"30\" y1=\"20\" x2=\"150\" y2=\"20\" style=\"stroke-width:2\" />\n",
       "\n",
       "  <!-- Vertical lines -->\n",
       "  <line x1=\"10\" y1=\"0\" x2=\"30\" y2=\"20\" style=\"stroke-width:2\" />\n",
       "  <line x1=\"130\" y1=\"0\" x2=\"150\" y2=\"20\" style=\"stroke-width:2\" />\n",
       "\n",
       "  <!-- Colored Rectangle -->\n",
       "  <polygon points=\"10.0,0.0 130.0,0.0 150.2092677444745,20.20926774447448 30.20926774447448,20.20926774447448\" style=\"fill:#ECB172A0;stroke-width:0\"/>\n",
       "\n",
       "  <!-- Horizontal lines -->\n",
       "  <line x1=\"30\" y1=\"20\" x2=\"150\" y2=\"20\" style=\"stroke-width:2\" />\n",
       "  <line x1=\"30\" y1=\"140\" x2=\"150\" y2=\"140\" style=\"stroke-width:2\" />\n",
       "\n",
       "  <!-- Vertical lines -->\n",
       "  <line x1=\"30\" y1=\"20\" x2=\"30\" y2=\"140\" style=\"stroke-width:2\" />\n",
       "  <line x1=\"150\" y1=\"20\" x2=\"150\" y2=\"140\" style=\"stroke-width:2\" />\n",
       "\n",
       "  <!-- Colored Rectangle -->\n",
       "  <polygon points=\"30.20926774447448,20.20926774447448 150.2092677444745,20.20926774447448 150.2092677444745,140.2092677444745 30.20926774447448,140.2092677444745\" style=\"fill:#ECB172A0;stroke-width:0\"/>\n",
       "\n",
       "  <!-- Text -->\n",
       "  <text x=\"90.209268\" y=\"160.209268\" font-size=\"1.0rem\" font-weight=\"100\" text-anchor=\"middle\" >512</text>\n",
       "  <text x=\"170.209268\" y=\"80.209268\" font-size=\"1.0rem\" font-weight=\"100\" text-anchor=\"middle\" transform=\"rotate(-90,170.209268,80.209268)\">512</text>\n",
       "  <text x=\"10.104634\" y=\"150.104634\" font-size=\"1.0rem\" font-weight=\"100\" text-anchor=\"middle\" transform=\"rotate(45,10.104634,150.104634)\">25</text>\n",
       "</svg>\n",
       "        </td>\n",
       "    </tr>\n",
       "</table>"
      ],
      "text/plain": [
       "sidpy.Dataset of type IMAGE_STACK with:\n",
       " dask.array<array, shape=(25, 512, 512), dtype=float32, chunksize=(25, 512, 512), chunktype=numpy.ndarray>\n",
       " data contains: intensity (counts)\n",
       " and Dimensions: \n",
       "frame:  stack (frame) of size (25,)\n",
       "y:  distance (nm) of size (512,)\n",
       "x:  distance (nm) of size (512,)\n",
       " with metadata: ['experiment', 'filename']"
      ]
     },
     "execution_count": 14,
     "metadata": {},
     "output_type": "execute_result"
    }
   ],
   "source": [
    "print(dataset)\n",
    "dataset"
   ]
  },
  {
   "cell_type": "code",
   "execution_count": 6,
   "metadata": {
    "scrolled": true
   },
   "outputs": [
    {
     "name": "stdout",
     "output_type": "stream",
     "text": [
      "ImageData :\n",
      "\tCalibrations :\n",
      "\t\tBrightness :\n",
      "\t\t\tOrigin : 0.0\n",
      "\t\t\tScale : 1.0\n",
      "\t\t\tUnits : Counts\n",
      "\t\tDimension :\n",
      "\t\t\t0 :\n",
      "\t\t\t\tOrigin : 200.0\n",
      "\t\t\t\tScale : 0.25\n",
      "\t\t\t\tUnits : eV\n",
      "\t\tDisplayCalibratedUnits : 1\n",
      "\tData : read\n",
      "\tDataType : 2\n",
      "\tDimensions :\n",
      "\t\t0 : 2048\n",
      "\tPixelDepth : 4\n",
      "ImageTags :\n",
      "\tAcquisition :\n",
      "\t\tDevice :\n",
      "\t\t\tActive Size (pixels) : [2048, 520]\n",
      "\t\t\tCamera Number : 0\n",
      "\t\t\tCCD :\n",
      "\t\t\t\tPixel Size (um) : [14.0, 14.0]\n",
      "\t\t\tConfiguration :\n",
      "\t\t\t\tTranspose :\n",
      "\t\t\t\t\tDiagonal Flip : 0\n",
      "\t\t\t\t\tHorizontal Flip : 0\n",
      "\t\t\t\t\tVertical Flip : 0\n",
      "\t\t\tName : QUEFINA 1\n",
      "\t\t\tSource : QUEFINA 1\n",
      "\t\tFrame :\n",
      "\t\t\tArea :\n",
      "\t\t\t\tTransform :\n",
      "\t\t\t\t\tClass Name : cm_acquisitiontransform_list\n",
      "\t\t\t\t\tTransform List :\n",
      "\t\t\t\t\t\t0 :\n",
      "\t\t\t\t\t\t\tBinning : [1, 1]\n",
      "\t\t\t\t\t\t\tClass Name : cm_acquisitiontransform\n",
      "\t\t\t\t\t\t\tSub Area Adjust : [0, 0, 0, 0]\n",
      "\t\t\t\t\t\t\tTranspose :\n",
      "\t\t\t\t\t\t\t\tDiagonal Flip : 0\n",
      "\t\t\t\t\t\t\t\tHorizontal Flip : 0\n",
      "\t\t\t\t\t\t\t\tVertical Flip : 0\n",
      "\t\t\tCCD :\n",
      "\t\t\t\tPixel Size (um) : [14.0, 14.0]\n",
      "\t\t\tIntensity :\n",
      "\t\t\t\tTransform :\n",
      "\t\t\t\t\tClass Name : cm_valuetransform_list\n",
      "\t\t\t\t\tTransform List :\n",
      "\t\t\t\t\t\t0 :\n",
      "\t\t\t\t\t\t\tClass Name : cm_valuetransform_affine\n",
      "\t\t\t\t\t\t\tOffset : 250.0\n",
      "\t\t\t\t\t\t\tScale : 1.0\n",
      "\t\t\t\t\t\t1 :\n",
      "\t\t\t\t\t\t\tADC Max : 65535.0\n",
      "\t\t\t\t\t\t\tADC Min : 0.0\n",
      "\t\t\t\t\t\t\tClass Name : cm_valuetransform_adc\n",
      "\t\tParameters :\n",
      "\t\t\tAcquisition Write Flags : 4294967295\n",
      "\t\t\tBase Detector :\n",
      "\t\t\t\tClass Name : cm_namedcameradetectorparameterset\n",
      "\t\t\t\tName : default\n",
      "\t\t\tDetector :\n",
      "\t\t\t\tcontinuous : 1\n",
      "\t\t\t\texposure (s) : 3.01000999977623\n",
      "\t\t\t\thbin : 1\n",
      "\t\t\t\theight : 520\n",
      "\t\t\t\tleft : 0\n",
      "\t\t\t\ttop : 0\n",
      "\t\t\t\tvbin : 1\n",
      "\t\t\t\twidth : 2048\n",
      "\t\t\tEnvironment :\n",
      "\t\t\t\tMode Name : Spectroscopy\n",
      "\t\t\tHigh Level :\n",
      "\t\t\t\tAcquisition Buffer Size : 0\n",
      "\t\t\t\tAntiblooming : 0\n",
      "\t\t\t\tBinning : [1, 1]\n",
      "\t\t\t\tCCD Read Area : [0, 0, 520, 2048]\n",
      "\t\t\t\tCCD Read Ports : 1\n",
      "\t\t\t\tChoose Number Of Frame Shutters Automatically : 1\n",
      "\t\t\t\tClass Name : cm_camera_highlevelparameters\n",
      "\t\t\t\tContinuous Readout : 1\n",
      "\t\t\t\tCorrections : 305\n",
      "\t\t\t\tCorrections Mask : 817\n",
      "\t\t\t\tExposure (s) : 3.01000999977623\n",
      "\t\t\t\tNumber Of Frame Shutters : 1\n",
      "\t\t\t\tProcessing : Dark Subtracted\n",
      "\t\t\t\tQuality Level : 1\n",
      "\t\t\t\tRead Frame Style : 0\n",
      "\t\t\t\tRead Mode : 14\n",
      "\t\t\t\tSecondary Shutter Post Exposure Compensation (s) : 0.0\n",
      "\t\t\t\tSecondary Shutter Pre Exposure Compensation (s) : 0.0\n",
      "\t\t\t\tShutter :\n",
      "\t\t\t\t\tPrimary Shutter States : 0\n",
      "\t\t\t\t\tPrimary Shutter States Mask : 0\n",
      "\t\t\t\t\tSecondary Shutter States : 0\n",
      "\t\t\t\t\tSecondary Shutter States Mask : 0\n",
      "\t\t\t\t\tShutter Exposure : 0\n",
      "\t\t\t\t\tShutter Index : 0\n",
      "\t\t\t\tShutter Post Exposure Compensation (s) : 0.0\n",
      "\t\t\t\tShutter Pre Exposure Compensation (s) : 0.0\n",
      "\t\t\t\tTransform :\n",
      "\t\t\t\t\tDiagonal Flip : 0\n",
      "\t\t\t\t\tHorizontal Flip : 0\n",
      "\t\t\t\t\tVertical Flip : 0\n",
      "\t\t\tObjects :\n",
      "\t\t\t\t0 :\n",
      "\t\t\t\t\tClass Name : cm_imgproc_finalcombine\n",
      "\t\t\t\t\tFrame Combine Style : Copy\n",
      "\t\t\t\t\tParameter 1 : 1.0\n",
      "\t\t\tParameter Set Name : Acquire\n",
      "\t\t\tParameter Set Tag Path : Spectroscopy:Acquire:Acquire\n",
      "\t\t\tVersion : 33947648\n",
      "\tEELS :\n",
      "\t\tAcquisition :\n",
      "\t\t\tContinuous mode : 0\n",
      "\t\t\tDate : 12/7/2017\n",
      "\t\t\tDual acquire enabled : 1\n",
      "\t\t\tDual acquire sibling :\n",
      "\t\t\t\tUID :\n",
      "\t\t\t\t\t0 : 123672649\n",
      "\t\t\t\t\t1 : 682497378\n",
      "\t\t\t\t\t2 : 128393711\n",
      "\t\t\t\t\t3 : 398853287\n",
      "\t\t\tDual energy-loss (eV) : 0.0\n",
      "\t\t\tEnd time : 5:44:01 PM\n",
      "\t\t\tExposure (s) : 0.01\n",
      "\t\t\tIntegration time (s) : 63.0\n",
      "\t\t\tIs dual acquire low-loss : 1\n",
      "\t\t\tNumber of frames : 21\n",
      "\t\t\tSaturation fraction : 0.2182195633649826\n",
      "\t\t\tStart time : 5:42:48 PM\n",
      "\t\tExperimental Conditions :\n",
      "\t\t\tCollection semi-angle (mrad) : 33.0\n",
      "\t\t\tConvergence semi-angle (mrad) : 30.0\n",
      "\tEELS Spectrometer :\n",
      "\t\tDispersion (eV/ch) : 0.25\n",
      "\t\tDispersion index : 4\n",
      "\t\tDrift tube enabled : 1\n",
      "\t\tDrift tube voltage (V) : 150.0\n",
      "\t\tEnergy loss (eV) : 150.0\n",
      "\t\tHT offset (V) : 0.0\n",
      "\t\tHT offset enabled : 0.0\n",
      "\t\tInstrument ID : 3977\n",
      "\t\tInstrument name : Enfinium ER NION\n",
      "\t\tMode : 0\n",
      "\t\tPrism offset (V) : 0.0\n",
      "\t\tPrism offset enabled  : 1\n",
      "\tMeta Data :\n",
      "\t\tAcquisition Mode : Parallel dispersive\n",
      "\t\tFormat : Spectrum\n",
      "\t\tSignal : EELS\n",
      "\tMicroscope Info :\n",
      "\t\tCs(mm) : 0.0\n",
      "\t\tEmission Current (A) : 0.0\n",
      "\t\tFormatted Indicated Mag : 100x\n",
      "\t\tFormatted Voltage : 200kV\n",
      "\t\tIllumination Mode : STEM\n",
      "\t\tImaging Mode : IMAGING\n",
      "\t\tIndicated Magnification : 100.0\n",
      "\t\tName : Unknown\n",
      "\t\tOperation Mode : SCANNING\n",
      "\t\tProbe Current (nA) : 0.0\n",
      "\t\tProbe Size (nm) : 0.0\n",
      "\t\tSTEM Camera Length : 2.8\n",
      "\t\tVoltage : 200000.0\n",
      "\tSession Info :\n",
      "\t\tItems :\n",
      "\t\t\t0 :\n",
      "\t\t\t\tData Type : 20\n",
      "\t\t\t\tLabel : Specimen\n",
      "\t\t\t\tPrecision : 0\n",
      "\t\t\t\tTag path : Session Info:Specimen\n",
      "\t\t\t\tUnits : \n",
      "\t\t\t\tValue : \n",
      "\t\t\t1 :\n",
      "\t\t\t\tData Type : 20\n",
      "\t\t\t\tLabel : Operator\n",
      "\t\t\t\tPrecision : 0\n",
      "\t\t\t\tTag path : Session Info:Operator\n",
      "\t\t\t\tUnits : \n",
      "\t\t\t\tValue : \n",
      "\t\t\t2 :\n",
      "\t\t\t\tData Type : 20\n",
      "\t\t\t\tLabel : Microscope\n",
      "\t\t\t\tPrecision : 0\n",
      "\t\t\t\tTag path : Session Info:Microscope\n",
      "\t\t\t\tUnits : \n",
      "\t\t\t\tValue : \n",
      "\t\tMicroscope : \n",
      "\t\tOperator : \n",
      "\t\tSpecimen : \n",
      "Name : 1EELS Acquire (low-loss)\n",
      "UniqueID :\n",
      "\t0 : 890318572\n",
      "\t1 : 6453622\n",
      "\t2 : 760373265\n",
      "\t3 : 467668515\n",
      "DM :\n",
      "\tdm_version : 3\n",
      "\tfile_size : 322925\n",
      "\tfull_file_name : C:\\Users\\gduscher\\Documents\\Github\\ML-ElectronMicroscopy-2023\\example_data\\1EELS_Acquire_low-loss.dm3\n",
      "original_filename : C:\\Users\\gduscher\\Documents\\Github\\ML-ElectronMicroscopy-2023\\example_data\\1EELS_Acquire_low-loss.dm3\n",
      "ApplicationBounds : [0, 0, 865, 1782]\n",
      "DocumentObjectList :\n",
      "\t0 :\n",
      "\t\tAnnotationGroupList :\n",
      "\t\tAnnotationType : 20\n",
      "\t\tBackgroundColor : [-1, -1, -1]\n",
      "\t\tBackgroundMode : 2\n",
      "\t\tFillMode : 2\n",
      "\t\tForegroundColor : [-1, 0, 0]\n",
      "\t\tHasBackground : 0\n",
      "\t\tImageDisplayInfo :\n",
      "\t\t\tBackgroundColor : [-5655, -5655, -5655]\n",
      "\t\t\tBackgroundOn : 1\n",
      "\t\t\tCalibrationSliceId :\n",
      "\t\t\t\t0 : 0\n",
      "\t\t\tCaptionAttributes : 7\n",
      "\t\t\tCaptionColor : [0, 0, 0]\n",
      "\t\t\tCaptionFaceName : Lucida Sans Unicode\n",
      "\t\t\tCaptionOn : 1\n",
      "\t\t\tCaptionSize : 10\n",
      "\t\t\tCursorOn : 1\n",
      "\t\t\tCursorPosition : 230.4381103515625\n",
      "\t\t\tDimensionLabels :\n",
      "\t\t\t\t0 : \n",
      "\t\t\tDynamicContrast : 1\n",
      "\t\t\tFrameOn : 1\n",
      "\t\t\tGridColor : [0, -1, -1]\n",
      "\t\t\tGridOn : 1\n",
      "\t\t\tGroupId : 0\n",
      "\t\t\tGroupList :\n",
      "\t\t\t\t0 :\n",
      "\t\t\t\t\tDoAutoSurveyHigh : 0\n",
      "\t\t\t\t\tDoAutoSurveyLow : 0\n",
      "\t\t\t\t\tGroupToDisplay :\n",
      "\t\t\t\t\t\tOffset : [-0.5883352160453796, 0.0]\n",
      "\t\t\t\t\t\tScale : [0.004079194273799658, 7.875703886384144e-06]\n",
      "\t\t\t\t\tTrackStyleX : 0\n",
      "\t\t\t\t\tTrackStyleY : 0\n",
      "\t\t\tLegendOn : 0\n",
      "\t\t\tMainSliceId :\n",
      "\t\t\t\t0 : 0\n",
      "\t\t\tNumHorizontalTicks : 1\n",
      "\t\t\tNumVerticalTicks : 1\n",
      "\t\t\tSliceList :\n",
      "\t\t\t\t0 :\n",
      "\t\t\t\t\tBaseIntensity : 0.0\n",
      "\t\t\t\t\tComplexMode : 4\n",
      "\t\t\t\t\tDrawFill : 1\n",
      "\t\t\t\t\tDrawLine : 0\n",
      "\t\t\t\t\tDrawTransparent : 0\n",
      "\t\t\t\t\tFillColor : [23644, -16449, -16449]\n",
      "\t\t\t\t\tHorz Pos Fixed : 1\n",
      "\t\t\t\t\tHorz Scale Fixed : 1\n",
      "\t\t\t\t\tImageToGroup :\n",
      "\t\t\t\t\t\tOffset : [0.0, 0.0]\n",
      "\t\t\t\t\t\tScale : [1.0, 1.0]\n",
      "\t\t\t\t\tIsVisible : 1\n",
      "\t\t\t\t\tLineColor : [0, -32640, -16449]\n",
      "\t\t\t\t\tLineStyle : 0\n",
      "\t\t\t\t\tLineThickness : 1\n",
      "\t\t\t\t\tSliceGroup : 0\n",
      "\t\t\t\t\tSliceId :\n",
      "\t\t\t\t\t\t0 : 0\n",
      "\t\t\t\t\tTransparency : 0.0\n",
      "\t\t\t\t\tTransparencyStyle : 0\n",
      "\t\t\t\t\tVert Pos Fixed : 1\n",
      "\t\t\t\t\tVert Scale Fixed : 1\n",
      "\t\t\tSurveyRegion : 1\n",
      "\t\tImageDisplayType : 3\n",
      "\t\tImageSource : 0\n",
      "\t\tIsMoveable : 1\n",
      "\t\tIsResizable : 1\n",
      "\t\tIsSelectable : 1\n",
      "\t\tIsTranslatable : 1\n",
      "\t\tIsVisible : 1\n",
      "\t\tObjectTags :\n",
      "\t\t\t__is_not_copy : 1\n",
      "\t\t\t__was_selected : 0\n",
      "\t\tRectangle : [0.0, 0.0, 342.0, 669.0]\n",
      "\t\tUniqueID : 8\n",
      "DocumentTags :\n",
      "HasWindowPosition : 1\n",
      "Image Behavior :\n",
      "\tDoIntegralZoom : 0\n",
      "\tImageDisplayBounds : [0.0, 0.0, 342.0, 669.0]\n",
      "\tIsZoomedToWindow : 1\n",
      "\tUnscaledTransform :\n",
      "\t\tOffset : [0.0, 0.0]\n",
      "\t\tScale : [1.0, 1.0]\n",
      "\tViewDisplayID : 8\n",
      "\tWindowRect : [0.0, 0.0, 342.0, 669.0]\n",
      "\tZoomAndMoveTransform :\n",
      "\t\tOffset : [0.0, 0.0]\n",
      "\t\tScale : [1.0, 1.0]\n",
      "ImageSourceList :\n",
      "\t0 :\n",
      "\t\tClassName : ImageSource:Simple\n",
      "\t\tExtra Slice Info :\n",
      "\t\t\t0 :\n",
      "\t\t\t\tId :\n",
      "\t\t\t\t\t0 : 0\n",
      "\t\t\t\tLabel : Spectrum\n",
      "\t\tId :\n",
      "\t\t\t0 : 0\n",
      "\t\tImageRef : 1\n",
      "InImageMode : 1\n",
      "MinVersionList :\n",
      "\t0 :\n",
      "\t\tRequiredVersion : 50659328\n",
      "NextDocumentObjectID : 9\n",
      "Page Behavior :\n",
      "\tDoIntegralZoom : 0\n",
      "\tDrawMargins : 1\n",
      "\tDrawPaper : 1\n",
      "\tIsFixedInPageMode : 0\n",
      "\tIsZoomedToWindow : 1\n",
      "\tLayedOut : 0\n",
      "\tPageTransform :\n",
      "\t\tOffset : [0.0, 0.0]\n",
      "\t\tScale : [1.0, 1.0]\n",
      "\tRestoreImageDisplayBounds : [0.0, 0.0, 342.0, 669.5]\n",
      "\tRestoreImageDisplayID : 8\n",
      "\tTargetDisplayID : 4294967295\n",
      "SentinelList :\n",
      "Thumbnails :\n",
      "\t0 :\n",
      "\t\tImageIndex : 0\n",
      "\t\tSourceSize_Pixels : [669, 342]\n",
      "WindowPosition : [410, 8, 752, 677]\n",
      "original_title : 1EELS_Acquire_low_loss\n"
     ]
    }
   ],
   "source": [
    "dataset.view_original_metadata()"
   ]
  },
  {
   "cell_type": "code",
   "execution_count": 7,
   "metadata": {},
   "outputs": [
    {
     "name": "stdout",
     "output_type": "stream",
     "text": [
      "experiment :\n",
      "\tsingle_exposure_time : 0.01\n",
      "\texposure_time : 63.0\n",
      "\tnumber_of_frames : 21\n",
      "\tcollection_angle : 33.0\n",
      "\tconvergence_angle : 30.0\n",
      "\tacceleration_voltage : 200000.0\n",
      "filename : C:\\Users\\gduscher\\Documents\\Github\\ML-ElectronMicroscopy-2023\\example_data\\1EELS_Acquire_low-loss.dm3\n"
     ]
    }
   ],
   "source": [
    "dataset.view_metadata()"
   ]
  },
  {
   "cell_type": "markdown",
   "metadata": {},
   "source": [
    "## Save File\n",
    "We save files in the pyNSID data format. That data format is based on hdf5 format, modified for microscopy and machine learning needs.\n",
    "See a later lecture by Rama."
   ]
  },
  {
   "cell_type": "code",
   "execution_count": 15,
   "metadata": {},
   "outputs": [
    {
     "name": "stderr",
     "output_type": "stream",
     "text": [
      "C:\\Users\\gduscher\\AppData\\Local\\anaconda3\\envs\\pyTEMlib\\Lib\\site-packages\\pyNSID\\io\\hdf_utils.py:376: FutureWarning: validate_h5_dimension may be removed in a future version\n",
      "  warn('validate_h5_dimension may be removed in a future version',\n"
     ]
    }
   ],
   "source": [
    "h5_group = file_tools.save_dataset(datasets, 'test1.hf5')"
   ]
  },
  {
   "cell_type": "markdown",
   "metadata": {},
   "source": [
    "The return value is h5_group, a directory equivalent in hdf5 data format with some attributes"
   ]
  },
  {
   "cell_type": "code",
   "execution_count": 16,
   "metadata": {},
   "outputs": [
    {
     "data": {
      "text/plain": [
       "<HDF5 file \"test1.hf5\" (mode r+)>"
      ]
     },
     "execution_count": 16,
     "metadata": {},
     "output_type": "execute_result"
    }
   ],
   "source": [
    "h5_group.file"
   ]
  },
  {
   "cell_type": "markdown",
   "metadata": {},
   "source": [
    "### Close the File"
   ]
  },
  {
   "cell_type": "code",
   "execution_count": 17,
   "metadata": {},
   "outputs": [],
   "source": [
    "dataset.h5_dataset.file.close()"
   ]
  },
  {
   "cell_type": "code",
   "execution_count": null,
   "metadata": {},
   "outputs": [],
   "source": []
  }
 ],
 "metadata": {
  "hide_code_all_hidden": true,
  "kernelspec": {
   "display_name": "Python 3 (ipykernel)",
   "language": "python",
   "name": "python3"
  },
  "language_info": {
   "codemirror_mode": {
    "name": "ipython",
    "version": 3
   },
   "file_extension": ".py",
   "mimetype": "text/x-python",
   "name": "python",
   "nbconvert_exporter": "python",
   "pygments_lexer": "ipython3",
   "version": "3.11.3"
  },
  "toc": {
   "base_numbering": 1,
   "nav_menu": {},
   "number_sections": true,
   "sideBar": true,
   "skip_h1_title": false,
   "title_cell": "Table of Contents",
   "title_sidebar": "Contents",
   "toc_cell": false,
   "toc_position": {
    "height": "calc(100% - 180px)",
    "left": "10px",
    "top": "150px",
    "width": "270px"
   },
   "toc_section_display": true,
   "toc_window_display": false
  },
  "varInspector": {
   "cols": {
    "lenName": 16,
    "lenType": 16,
    "lenVar": 40
   },
   "kernels_config": {
    "python": {
     "delete_cmd_postfix": "",
     "delete_cmd_prefix": "del ",
     "library": "var_list.py",
     "varRefreshCmd": "print(var_dic_list())"
    },
    "r": {
     "delete_cmd_postfix": ") ",
     "delete_cmd_prefix": "rm(",
     "library": "var_list.r",
     "varRefreshCmd": "cat(var_dic_list()) "
    }
   },
   "types_to_exclude": [
    "module",
    "function",
    "builtin_function_or_method",
    "instance",
    "_Feature"
   ],
   "window_display": false
  }
 },
 "nbformat": 4,
 "nbformat_minor": 4
}
